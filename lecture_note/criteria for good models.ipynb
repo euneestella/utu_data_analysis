{
 "cells": [
  {
   "cell_type": "markdown",
   "metadata": {},
   "source": [
    "## 좋은 모델의 기준(criteria for good models)\n",
    "University of Turku의 Data Analysis and Knowledge Discovery 강의 내용을 정리한 노트이며, 개인적인 의견과 자료조사를 더했습니다."
   ]
  },
  {
   "cell_type": "markdown",
   "metadata": {},
   "source": [
    "### 모델 적합도(fitting criterion)\n",
    "모델이 데이터에 얼마나 잘 맞는가? 모델 적합도가 높을수록 좋은 모델이다.\n",
    "\n",
    "\n",
    "### 모델 복잡도(model complexity)\n",
    "모델은 간단할수록 좋다. 간단한 모델은 <u>이해하기 쉬우며</u>, <u>적합시키기 좋고</u>(easy to fit), <u>과대적합(overfitting)을 방지</u>할 수 있다.\n",
    "\n",
    "### 해석력(interpretability)\n",
    "모델을 이용하는 사람이 모델을 이해하기 위해서는 모델이 의미있어야 한다. 특정 데이터가 주어졌을 때에만 의미있는 결과를 도출하는 모델이라면 해석력이 떨어진다.\n",
    "\n",
    "### 계산적 측면(computational aspects)\n",
    "계산의 복잡도는 작을수록 좋다. 모델 복잡도와 해석력과도 관련된 측면인데, 모델이 시간 자원(시간 복잡도)과 메모리 자원(공간 복잡도)을 적게 소모한다면 우수한 성능의 모델이라고 할 수 있다."
   ]
  }
 ],
 "metadata": {
  "kernelspec": {
   "display_name": "Python 3",
   "language": "python",
   "name": "python3"
  },
  "language_info": {
   "codemirror_mode": {
    "name": "ipython",
    "version": 3
   },
   "file_extension": ".py",
   "mimetype": "text/x-python",
   "name": "python",
   "nbconvert_exporter": "python",
   "pygments_lexer": "ipython3",
   "version": "3.7.3"
  }
 },
 "nbformat": 4,
 "nbformat_minor": 2
}

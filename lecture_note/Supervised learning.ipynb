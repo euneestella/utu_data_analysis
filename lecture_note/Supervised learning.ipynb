{
 "cells": [
  {
   "cell_type": "markdown",
   "metadata": {},
   "source": [
    "## 지도학습(supervised learning)"
   ]
  },
  {
   "cell_type": "markdown",
   "metadata": {},
   "source": [
    "University of Turku의 Data Analysis and Knowledge Discovery 강의 내용을 정리한 노트이며, 개인적인 의견과 자료조사를 더했습니다."
   ]
  },
  {
   "cell_type": "markdown",
   "metadata": {},
   "source": [
    "이름(supervised)에서 알 수 있듯, 기계에게 문제와 정답이 있는 학습 데이터를 미리 주고, 테스트 데이터와 비교시키며 학습시키는 방식이다. 가장 기본적인 머신러닝 기법으로 직관적이라는 장점이 있다. \n",
    "\n",
    "따라서 데이터를 <u>학습 데이터</u>와 <u>테스트 데이터</u>로 미리 나누어 두어야 한다. \n",
    "\n",
    "|  <center>학습 데이터(training set)</center> |  <center>테스트 데이터(test set)</center>\n",
    "|:--------|:--------:|\n",
    "|<center>feature</center> | <center>input</center> |\n",
    "|<center>label</center> | <center>corret output</center> |\n",
    "\n",
    "최종 목표는 입력해서 나온 출력 데이터(correct output)와 정답 데이터(label) 사이의 차이가 줄어들도록 모델을 만드는 것이다. "
   ]
  },
  {
   "cell_type": "markdown",
   "metadata": {},
   "source": [
    "데이터는 $ \\left( x_{ 1 },{ y }_{ 1 } \\right) ,\\quad \\cdots \\quad \\left( { x }_{ n },{ y }_{ n } \\right)  $ 처럼 input-output 형태로 짝지어져 있어야 한다. 자료형은 숫자형, 범주형 모두 가능하다."
   ]
  },
  {
   "cell_type": "markdown",
   "metadata": {},
   "source": [
    "## 지도학습 과정의 일반화"
   ]
  },
  {
   "cell_type": "markdown",
   "metadata": {},
   "source": [
    "1. Input할 $x$값을 학습 데이터에서 선택\n",
    "2. Output할 $y$값을 학습 데이터에서 선택\n",
    "3. Target function 설정  $f\\quad :\\quad X\\quad \\rightarrow \\quad Y$\n",
    "4. 학습 데이터셋 $ \\left( x_{ 1 },{ y }_{ 1 } \\right) ,\\quad \\cdots \\quad \\left( { x }_{ n },{ y }_{ n } \\right)  $\n",
    "5. Hypothesis 설정 $g\\quad :\\quad X\\quad \\rightarrow \\quad Y$"
   ]
  },
  {
   "cell_type": "markdown",
   "metadata": {},
   "source": [
    "![지도학습 과정](img/supervised.PNG)"
   ]
  },
  {
   "cell_type": "markdown",
   "metadata": {},
   "source": [
    "## 회귀(regression)"
   ]
  },
  {
   "cell_type": "markdown",
   "metadata": {},
   "source": [
    "output 데이터가 숫자형일 때 사용하며, 회귀분석 방법을 적용한다."
   ]
  },
  {
   "cell_type": "markdown",
   "metadata": {},
   "source": [
    "## 분류(classification)"
   ]
  },
  {
   "cell_type": "markdown",
   "metadata": {},
   "source": [
    "output 데이터가 범주형 데이터일 때 사용하며, 특히 output이 이분형일 때에는 이진 분류(binary classification)이라고 한다."
   ]
  }
 ],
 "metadata": {
  "kernelspec": {
   "display_name": "Python 3",
   "language": "python",
   "name": "python3"
  },
  "language_info": {
   "codemirror_mode": {
    "name": "ipython",
    "version": 3
   },
   "file_extension": ".py",
   "mimetype": "text/x-python",
   "name": "python",
   "nbconvert_exporter": "python",
   "pygments_lexer": "ipython3",
   "version": "3.7.3"
  }
 },
 "nbformat": 4,
 "nbformat_minor": 2
}

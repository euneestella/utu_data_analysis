{
 "cells": [
  {
   "cell_type": "markdown",
   "metadata": {},
   "source": [
    "## CRISP-DM Model"
   ]
  },
  {
   "cell_type": "markdown",
   "metadata": {},
   "source": [
    "CRISP-DM 모델은 Cross Industry Standard Process for Data Mining의 줄임말로, <u>데이터 마이닝 분석에서 가장 흔히 사용되는 방법론</u>이다(KDnuggets, 2014)"
   ]
  },
  {
   "cell_type": "markdown",
   "metadata": {},
   "source": [
    "![crisp-dm](img/crisp-dm.png)"
   ]
  },
  {
   "cell_type": "markdown",
   "metadata": {},
   "source": [
    "<center>source : https://www.kdnuggets.com/2017/01/four-problems-crisp-dm-fix.html</center>"
   ]
  },
  {
   "cell_type": "markdown",
   "metadata": {},
   "source": [
    "### 1. Project understanding (Business Understanding)"
   ]
  },
  {
   "cell_type": "markdown",
   "metadata": {},
   "source": [
    "- 문제는 정확히 무엇인가? 예상되는 효용(benefit)은 무엇인가?\n",
    "- 해결법은 어떨 것인가?\n",
    "- 해당 분야(domain)에 대해 무엇이 알려져 있는가?"
   ]
  },
  {
   "cell_type": "markdown",
   "metadata": {},
   "source": [
    "프로젝트의 목적과 요구사항을 <u>명확히</u> 한다. 예를 들어 프로젝트의 성공을 가늠하는 기준을 정의할 수 있겠다. 이후 이러한 목표와 제한사항을 데이터 마이닝의 문제 정의 공식으로 변환한다.    \n",
    "이때, 목표 달성을 위한 예비 전략을 함께 준비한다."
   ]
  },
  {
   "cell_type": "markdown",
   "metadata": {},
   "source": [
    "### 2. Data understanding"
   ]
  },
  {
   "cell_type": "markdown",
   "metadata": {},
   "source": [
    "- 어떤 데이터가 이용 가능한가?\n",
    "- 데이터는 문제 상황과 연관되어 있는가?\n",
    "- 데이터는 논리적으로 타당한가? 예상을 잘 반영하는가?\n",
    "- 데이터는 최신의 것이며, 양적, 질적으로 충분한가?"
   ]
  },
  {
   "cell_type": "markdown",
   "metadata": {},
   "source": [
    "데이터를 수집한다. *단, 윤리적, 정치적, 법적 문제를 고려해야 한다.* 데이터에 익숙해지고 인사이트를 얻기 위해 탐색적 데이터 분석(exploratory data analysis)를 수행한다. 탐색적 데이터 분석은 EDA라고도 하는데, 가설을 증명하거나 구체적인 모형을 만들기 전 데이터의 이해도를 높이기 위해 수행한다. 이후 데이터의 질을 평가하고, 가능하다면 패턴을 포함하고 있을 것으로 예상되는 하위 항목을 선택한다.    "
   ]
  },
  {
   "cell_type": "markdown",
   "metadata": {},
   "source": [
    "### 3. Data preparation"
   ]
  },
  {
   "cell_type": "markdown",
   "metadata": {},
   "source": [
    "- 어떤 데이터를 집중적으로 분석해야 하는가?\n",
    "- 어떻게 하면 데이터를 모델링하기 좋게 변형할 수 있을까?\n",
    "- 어떻게 데이터의 질을 향상시킬 수 있을까?"
   ]
  },
  {
   "cell_type": "markdown",
   "metadata": {},
   "source": [
    "원자료를 이후의 모델링에서 사용할 수 있게 가공한다. 분석에 사용할 사례와 변수를 선택하고 필요하다면 데이터를 변형한다. "
   ]
  },
  {
   "cell_type": "markdown",
   "metadata": {},
   "source": [
    "### 4. Modeling"
   ]
  },
  {
   "cell_type": "markdown",
   "metadata": {},
   "source": [
    "- 어떤 모델이 문제를 가장 잘 해결할까?\n",
    "- 모델을 얻기 위한 가장 좋은 방법은 무엇일까?\n",
    "- 어떻게 모델이 기술적으로 잘 구현될까?"
   ]
  },
  {
   "cell_type": "markdown",
   "metadata": {},
   "source": [
    "결과를 최적화하기에 적당한 모델링 방법론을 선택하고 적용한다. 같은 데이터 마이닝 문제여도 다른 방법론들이 사용될 수 있음에 유의해야 한다. 필요하다면 이전 단계로 돌아가 데이터 마이닝 방법론에 필요한 데이터의 form을 가져올 수도 있다.   \n",
    "모델은 예측 정확성, 유연성, 설명력이 좋아야 한다. 단, 유연성이 좋은 모델은 과적합(overfitting) 문제가 발생할 수 있다. 또한 런타임이 제한된다면 계산적으로 많은 비용이 드는(computationally expensive) 문제 해결법은 사용할 수 없겠다."
   ]
  },
  {
   "cell_type": "markdown",
   "metadata": {},
   "source": [
    "### 5. Evaluation"
   ]
  },
  {
   "cell_type": "markdown",
   "metadata": {},
   "source": [
    "- 모델은 프로젝트의 요구사항에 적합한가?\n",
    "- 프로젝트로부터 새롭게 배운 것은 무엇인가?"
   ]
  },
  {
   "cell_type": "markdown",
   "metadata": {},
   "source": [
    "이전 단계에서 더 나은 방법론을 도출 할 수 없다면 평가 단계로 넘어간다. 직접 현장에서 사용하기 전에 모델들을 평가하는 단계로, 모델이 앞서 정의한 목적을 잘 달성하는지 평가한다. 충분히 고려되지 않은 중요한 측면이 있는지 확인한 다음 데이터 마이닝 결과를 사용할 것인지 판단한다."
   ]
  },
  {
   "cell_type": "markdown",
   "metadata": {},
   "source": [
    "### 6. Deployment"
   ]
  },
  {
   "cell_type": "markdown",
   "metadata": {},
   "source": [
    "- 어떻게 모델이 가장 잘 전개되는가?\n",
    "- 모델이 여전히 타당한지 어떻게 알 수 있는가?"
   ]
  },
  {
   "cell_type": "markdown",
   "metadata": {},
   "source": [
    "만든 모델을 사용해 본다. 단순한 예인 경우 보고서를 만들어 보고, 복잡한 예의 경우 다른 분야에서도 유사한 데이터 마이닝을 수행해 본다. 비즈니스적인 문제에서는 고객이 종종 모델에 기초한 전개를 수행하기도 한다."
   ]
  }
 ],
 "metadata": {
  "kernelspec": {
   "display_name": "R",
   "language": "R",
   "name": "ir"
  },
  "language_info": {
   "codemirror_mode": "r",
   "file_extension": ".r",
   "mimetype": "text/x-r-source",
   "name": "R",
   "pygments_lexer": "r",
   "version": "3.5.1"
  }
 },
 "nbformat": 4,
 "nbformat_minor": 2
}

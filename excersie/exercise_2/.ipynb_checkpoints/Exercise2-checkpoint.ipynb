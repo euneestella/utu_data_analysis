{
 "cells": [
  {
   "cell_type": "markdown",
   "metadata": {},
   "source": [
    "# Data understanding and visualization\n",
    "This is a template for the second exercise in Data analysis and knowledge discovery course. The tasks can be done with the following libraries. You can also use other options if you are more familiar with them. "
   ]
  },
  {
   "cell_type": "code",
   "execution_count": 1,
   "metadata": {},
   "outputs": [],
   "source": [
    "# Library for loading the data as a data frame and for the first task\n",
    "import pandas as pd\n",
    "\n",
    "# Library for plotting the histograms and boxplots\n",
    "import matplotlib.pyplot as plt\n",
    "\n",
    "# Library for plotting the scatter plots and heatmaps\n",
    "import seaborn as sns\n",
    "\n",
    "# For normalization\n",
    "from sklearn import preprocessing\n",
    "\n",
    "# For principal component analysis\n",
    "from sklearn.decomposition import PCA"
   ]
  },
  {
   "cell_type": "code",
   "execution_count": 2,
   "metadata": {},
   "outputs": [],
   "source": [
    "# Load the data here\n",
    "shipdata = pd.read_excel('shipdata_2019.xlsx')"
   ]
  },
  {
   "cell_type": "markdown",
   "metadata": {},
   "source": [
    "# 1. Describe the data\n",
    "#### a) Calculate a cross table of destination and ship type. How many ship types there are? How many ships there are of each type? How many destinations there are? What is the most common destination? What are the most common destinations for the ship types?"
   ]
  },
  {
   "cell_type": "markdown",
   "metadata": {},
   "source": [
    "### How many ship types there are?"
   ]
  },
  {
   "cell_type": "code",
   "execution_count": 3,
   "metadata": {},
   "outputs": [
    {
     "data": {
      "text/plain": [
       "3"
      ]
     },
     "execution_count": 3,
     "metadata": {},
     "output_type": "execute_result"
    }
   ],
   "source": [
    "len(shipdata.groupby('Ship_type'))"
   ]
  },
  {
   "cell_type": "markdown",
   "metadata": {},
   "source": [
    "There are three ship types in the given data."
   ]
  },
  {
   "cell_type": "markdown",
   "metadata": {},
   "source": [
    "### How many ships there are of each type?"
   ]
  },
  {
   "cell_type": "code",
   "execution_count": 4,
   "metadata": {},
   "outputs": [
    {
     "data": {
      "text/plain": [
       "Ship_type\n",
       "Cargo     67\n",
       "Tanker    59\n",
       "Tug        9\n",
       "dtype: int64"
      ]
     },
     "execution_count": 4,
     "metadata": {},
     "output_type": "execute_result"
    }
   ],
   "source": [
    "shipdata.groupby('Ship_type').size()"
   ]
  },
  {
   "cell_type": "markdown",
   "metadata": {},
   "source": [
    "There are 67 ships for **Cargo**, 59 ships for **Tanker**, and 9 ships for **Tug**"
   ]
  },
  {
   "cell_type": "markdown",
   "metadata": {},
   "source": [
    "### How many destinations there are?"
   ]
  },
  {
   "cell_type": "code",
   "execution_count": 5,
   "metadata": {},
   "outputs": [
    {
     "data": {
      "text/plain": [
       "17"
      ]
     },
     "execution_count": 5,
     "metadata": {},
     "output_type": "execute_result"
    }
   ],
   "source": [
    "len(shipdata.groupby(['Destination']))"
   ]
  },
  {
   "cell_type": "markdown",
   "metadata": {},
   "source": [
    "There are 17 destinations in the given data."
   ]
  },
  {
   "cell_type": "markdown",
   "metadata": {},
   "source": [
    "### What is the most common destination?"
   ]
  },
  {
   "cell_type": "code",
   "execution_count": 6,
   "metadata": {},
   "outputs": [
    {
     "data": {
      "text/plain": [
       "Destination\n",
       "Helsinki          1\n",
       "Valko-Loviisa     2\n",
       "Kronshtadt        2\n",
       "Kunda             2\n",
       "Sillamäe          3\n",
       "Primorsk          5\n",
       "Vysotsk           5\n",
       "Viipuri           6\n",
       "Vuosaari          7\n",
       "Valko Loviisa     7\n",
       "Kotka             8\n",
       "Paldiski          9\n",
       "Muuga            12\n",
       "Tallinn          12\n",
       "Ust-Luga         16\n",
       "Porvoo           19\n",
       "Hamina           19\n",
       "dtype: int64"
      ]
     },
     "execution_count": 6,
     "metadata": {},
     "output_type": "execute_result"
    }
   ],
   "source": [
    "shipdata.groupby('Destination').size().sort_values()"
   ]
  },
  {
   "cell_type": "code",
   "execution_count": 7,
   "metadata": {},
   "outputs": [
    {
     "data": {
      "text/plain": [
       "'Hamina'"
      ]
     },
     "execution_count": 7,
     "metadata": {},
     "output_type": "execute_result"
    }
   ],
   "source": [
    "shipdata.groupby('Destination').size().idxmax()"
   ]
  },
  {
   "cell_type": "markdown",
   "metadata": {},
   "source": [
    "**Porvoo** and **Hamina** are the most common destination."
   ]
  },
  {
   "cell_type": "markdown",
   "metadata": {},
   "source": [
    "### What are the most common destinations for the ship types?"
   ]
  },
  {
   "cell_type": "markdown",
   "metadata": {},
   "source": [
    "#### Cargo"
   ]
  },
  {
   "cell_type": "code",
   "execution_count": 8,
   "metadata": {},
   "outputs": [
    {
     "data": {
      "text/plain": [
       "'Hamina'"
      ]
     },
     "execution_count": 8,
     "metadata": {},
     "output_type": "execute_result"
    }
   ],
   "source": [
    "shipdata[shipdata['Ship_type']=='Cargo'].groupby('Destination').size().idxmax()"
   ]
  },
  {
   "cell_type": "markdown",
   "metadata": {},
   "source": [
    "#### Tanker"
   ]
  },
  {
   "cell_type": "code",
   "execution_count": 9,
   "metadata": {},
   "outputs": [
    {
     "data": {
      "text/plain": [
       "'Porvoo'"
      ]
     },
     "execution_count": 9,
     "metadata": {},
     "output_type": "execute_result"
    }
   ],
   "source": [
    "shipdata[shipdata['Ship_type']=='Tanker'].groupby('Destination').size().idxmax()"
   ]
  },
  {
   "cell_type": "markdown",
   "metadata": {},
   "source": [
    "#### Tug"
   ]
  },
  {
   "cell_type": "code",
   "execution_count": 10,
   "metadata": {},
   "outputs": [
    {
     "data": {
      "text/plain": [
       "'Tallinn'"
      ]
     },
     "execution_count": 10,
     "metadata": {},
     "output_type": "execute_result"
    }
   ],
   "source": [
    "shipdata[shipdata['Ship_type']=='Tug'].groupby('Destination').size().idxmax()"
   ]
  },
  {
   "cell_type": "markdown",
   "metadata": {},
   "source": [
    "#### b) Calculate mean, median and standard deviation of speed, COG, gross tonnage, length and breadth for each ship type. Are there some clear differences between the ship types? What can you say about the attribute distributions based on these values?"
   ]
  },
  {
   "cell_type": "markdown",
   "metadata": {},
   "source": [
    "First, let's calculate mean, median and standard deviation of given sentence"
   ]
  },
  {
   "cell_type": "code",
   "execution_count": 11,
   "metadata": {},
   "outputs": [
    {
     "data": {
      "text/html": [
       "<div>\n",
       "<style scoped>\n",
       "    .dataframe tbody tr th:only-of-type {\n",
       "        vertical-align: middle;\n",
       "    }\n",
       "\n",
       "    .dataframe tbody tr th {\n",
       "        vertical-align: top;\n",
       "    }\n",
       "\n",
       "    .dataframe thead th {\n",
       "        text-align: right;\n",
       "    }\n",
       "</style>\n",
       "<table border=\"1\" class=\"dataframe\">\n",
       "  <thead>\n",
       "    <tr style=\"text-align: right;\">\n",
       "      <th></th>\n",
       "      <th>MMSI</th>\n",
       "      <th>Speed</th>\n",
       "      <th>COG</th>\n",
       "      <th>Gross_tonnage</th>\n",
       "      <th>Length</th>\n",
       "      <th>Breadth</th>\n",
       "    </tr>\n",
       "  </thead>\n",
       "  <tbody>\n",
       "    <tr>\n",
       "      <th>count</th>\n",
       "      <td>6.700000e+01</td>\n",
       "      <td>67.000000</td>\n",
       "      <td>67.000000</td>\n",
       "      <td>67.000000</td>\n",
       "      <td>67.000000</td>\n",
       "      <td>67.000000</td>\n",
       "    </tr>\n",
       "    <tr>\n",
       "      <th>mean</th>\n",
       "      <td>3.020602e+08</td>\n",
       "      <td>9.944228</td>\n",
       "      <td>75.155397</td>\n",
       "      <td>7216.179104</td>\n",
       "      <td>113.482388</td>\n",
       "      <td>16.841791</td>\n",
       "    </tr>\n",
       "    <tr>\n",
       "      <th>std</th>\n",
       "      <td>1.094090e+08</td>\n",
       "      <td>1.902193</td>\n",
       "      <td>13.597882</td>\n",
       "      <td>9346.956372</td>\n",
       "      <td>41.302107</td>\n",
       "      <td>5.987596</td>\n",
       "    </tr>\n",
       "    <tr>\n",
       "      <th>min</th>\n",
       "      <td>2.091850e+08</td>\n",
       "      <td>7.405000</td>\n",
       "      <td>53.326400</td>\n",
       "      <td>852.000000</td>\n",
       "      <td>64.200000</td>\n",
       "      <td>10.500000</td>\n",
       "    </tr>\n",
       "    <tr>\n",
       "      <th>25%</th>\n",
       "      <td>2.350572e+08</td>\n",
       "      <td>8.625100</td>\n",
       "      <td>66.796550</td>\n",
       "      <td>2348.500000</td>\n",
       "      <td>87.875000</td>\n",
       "      <td>12.500000</td>\n",
       "    </tr>\n",
       "    <tr>\n",
       "      <th>50%</th>\n",
       "      <td>2.466500e+08</td>\n",
       "      <td>9.822600</td>\n",
       "      <td>74.024400</td>\n",
       "      <td>3259.000000</td>\n",
       "      <td>99.950000</td>\n",
       "      <td>14.400000</td>\n",
       "    </tr>\n",
       "    <tr>\n",
       "      <th>75%</th>\n",
       "      <td>3.059535e+08</td>\n",
       "      <td>10.858700</td>\n",
       "      <td>78.486650</td>\n",
       "      <td>6782.500000</td>\n",
       "      <td>123.760000</td>\n",
       "      <td>18.750000</td>\n",
       "    </tr>\n",
       "    <tr>\n",
       "      <th>max</th>\n",
       "      <td>6.360923e+08</td>\n",
       "      <td>17.082500</td>\n",
       "      <td>130.549500</td>\n",
       "      <td>45223.000000</td>\n",
       "      <td>268.110000</td>\n",
       "      <td>32.310000</td>\n",
       "    </tr>\n",
       "  </tbody>\n",
       "</table>\n",
       "</div>"
      ],
      "text/plain": [
       "               MMSI      Speed         COG  Gross_tonnage      Length  \\\n",
       "count  6.700000e+01  67.000000   67.000000      67.000000   67.000000   \n",
       "mean   3.020602e+08   9.944228   75.155397    7216.179104  113.482388   \n",
       "std    1.094090e+08   1.902193   13.597882    9346.956372   41.302107   \n",
       "min    2.091850e+08   7.405000   53.326400     852.000000   64.200000   \n",
       "25%    2.350572e+08   8.625100   66.796550    2348.500000   87.875000   \n",
       "50%    2.466500e+08   9.822600   74.024400    3259.000000   99.950000   \n",
       "75%    3.059535e+08  10.858700   78.486650    6782.500000  123.760000   \n",
       "max    6.360923e+08  17.082500  130.549500   45223.000000  268.110000   \n",
       "\n",
       "         Breadth  \n",
       "count  67.000000  \n",
       "mean   16.841791  \n",
       "std     5.987596  \n",
       "min    10.500000  \n",
       "25%    12.500000  \n",
       "50%    14.400000  \n",
       "75%    18.750000  \n",
       "max    32.310000  "
      ]
     },
     "execution_count": 11,
     "metadata": {},
     "output_type": "execute_result"
    }
   ],
   "source": [
    "shipdata[shipdata['Ship_type'] == 'Cargo'].describe()"
   ]
  },
  {
   "cell_type": "code",
   "execution_count": 12,
   "metadata": {},
   "outputs": [
    {
     "data": {
      "text/html": [
       "<div>\n",
       "<style scoped>\n",
       "    .dataframe tbody tr th:only-of-type {\n",
       "        vertical-align: middle;\n",
       "    }\n",
       "\n",
       "    .dataframe tbody tr th {\n",
       "        vertical-align: top;\n",
       "    }\n",
       "\n",
       "    .dataframe thead th {\n",
       "        text-align: right;\n",
       "    }\n",
       "</style>\n",
       "<table border=\"1\" class=\"dataframe\">\n",
       "  <thead>\n",
       "    <tr style=\"text-align: right;\">\n",
       "      <th></th>\n",
       "      <th>MMSI</th>\n",
       "      <th>Speed</th>\n",
       "      <th>COG</th>\n",
       "      <th>Gross_tonnage</th>\n",
       "      <th>Length</th>\n",
       "      <th>Breadth</th>\n",
       "    </tr>\n",
       "  </thead>\n",
       "  <tbody>\n",
       "    <tr>\n",
       "      <th>count</th>\n",
       "      <td>5.900000e+01</td>\n",
       "      <td>59.000000</td>\n",
       "      <td>59.000000</td>\n",
       "      <td>59.000000</td>\n",
       "      <td>59.000000</td>\n",
       "      <td>59.000000</td>\n",
       "    </tr>\n",
       "    <tr>\n",
       "      <th>mean</th>\n",
       "      <td>3.585505e+08</td>\n",
       "      <td>11.222832</td>\n",
       "      <td>78.800515</td>\n",
       "      <td>22092.864407</td>\n",
       "      <td>174.824576</td>\n",
       "      <td>25.704068</td>\n",
       "    </tr>\n",
       "    <tr>\n",
       "      <th>std</th>\n",
       "      <td>1.643041e+08</td>\n",
       "      <td>1.899707</td>\n",
       "      <td>14.778051</td>\n",
       "      <td>23048.981248</td>\n",
       "      <td>122.715206</td>\n",
       "      <td>10.994205</td>\n",
       "    </tr>\n",
       "    <tr>\n",
       "      <th>min</th>\n",
       "      <td>2.124360e+08</td>\n",
       "      <td>4.540900</td>\n",
       "      <td>56.325300</td>\n",
       "      <td>326.000000</td>\n",
       "      <td>46.920000</td>\n",
       "      <td>8.130000</td>\n",
       "    </tr>\n",
       "    <tr>\n",
       "      <th>25%</th>\n",
       "      <td>2.444812e+08</td>\n",
       "      <td>10.391350</td>\n",
       "      <td>72.909150</td>\n",
       "      <td>5040.500000</td>\n",
       "      <td>119.695000</td>\n",
       "      <td>16.830000</td>\n",
       "    </tr>\n",
       "    <tr>\n",
       "      <th>50%</th>\n",
       "      <td>2.570332e+08</td>\n",
       "      <td>11.604500</td>\n",
       "      <td>75.206500</td>\n",
       "      <td>9980.000000</td>\n",
       "      <td>144.050000</td>\n",
       "      <td>21.900000</td>\n",
       "    </tr>\n",
       "    <tr>\n",
       "      <th>75%</th>\n",
       "      <td>5.380030e+08</td>\n",
       "      <td>12.317150</td>\n",
       "      <td>81.107750</td>\n",
       "      <td>30204.000000</td>\n",
       "      <td>195.000000</td>\n",
       "      <td>32.240000</td>\n",
       "    </tr>\n",
       "    <tr>\n",
       "      <th>max</th>\n",
       "      <td>6.360928e+08</td>\n",
       "      <td>14.680500</td>\n",
       "      <td>157.267300</td>\n",
       "      <td>81502.000000</td>\n",
       "      <td>1000.000000</td>\n",
       "      <td>48.040000</td>\n",
       "    </tr>\n",
       "  </tbody>\n",
       "</table>\n",
       "</div>"
      ],
      "text/plain": [
       "               MMSI      Speed         COG  Gross_tonnage       Length  \\\n",
       "count  5.900000e+01  59.000000   59.000000      59.000000    59.000000   \n",
       "mean   3.585505e+08  11.222832   78.800515   22092.864407   174.824576   \n",
       "std    1.643041e+08   1.899707   14.778051   23048.981248   122.715206   \n",
       "min    2.124360e+08   4.540900   56.325300     326.000000    46.920000   \n",
       "25%    2.444812e+08  10.391350   72.909150    5040.500000   119.695000   \n",
       "50%    2.570332e+08  11.604500   75.206500    9980.000000   144.050000   \n",
       "75%    5.380030e+08  12.317150   81.107750   30204.000000   195.000000   \n",
       "max    6.360928e+08  14.680500  157.267300   81502.000000  1000.000000   \n",
       "\n",
       "         Breadth  \n",
       "count  59.000000  \n",
       "mean   25.704068  \n",
       "std    10.994205  \n",
       "min     8.130000  \n",
       "25%    16.830000  \n",
       "50%    21.900000  \n",
       "75%    32.240000  \n",
       "max    48.040000  "
      ]
     },
     "execution_count": 12,
     "metadata": {},
     "output_type": "execute_result"
    }
   ],
   "source": [
    "shipdata[shipdata['Ship_type'] == 'Tanker'].describe()"
   ]
  },
  {
   "cell_type": "code",
   "execution_count": 13,
   "metadata": {},
   "outputs": [
    {
     "data": {
      "text/html": [
       "<div>\n",
       "<style scoped>\n",
       "    .dataframe tbody tr th:only-of-type {\n",
       "        vertical-align: middle;\n",
       "    }\n",
       "\n",
       "    .dataframe tbody tr th {\n",
       "        vertical-align: top;\n",
       "    }\n",
       "\n",
       "    .dataframe thead th {\n",
       "        text-align: right;\n",
       "    }\n",
       "</style>\n",
       "<table border=\"1\" class=\"dataframe\">\n",
       "  <thead>\n",
       "    <tr style=\"text-align: right;\">\n",
       "      <th></th>\n",
       "      <th>MMSI</th>\n",
       "      <th>Speed</th>\n",
       "      <th>COG</th>\n",
       "      <th>Gross_tonnage</th>\n",
       "      <th>Length</th>\n",
       "      <th>Breadth</th>\n",
       "    </tr>\n",
       "  </thead>\n",
       "  <tbody>\n",
       "    <tr>\n",
       "      <th>count</th>\n",
       "      <td>9.000000e+00</td>\n",
       "      <td>9.000000</td>\n",
       "      <td>9.000000</td>\n",
       "      <td>9.000000</td>\n",
       "      <td>9.000000</td>\n",
       "      <td>9.000000</td>\n",
       "    </tr>\n",
       "    <tr>\n",
       "      <th>mean</th>\n",
       "      <td>2.332114e+08</td>\n",
       "      <td>8.514444</td>\n",
       "      <td>97.381967</td>\n",
       "      <td>230.222222</td>\n",
       "      <td>28.562222</td>\n",
       "      <td>8.504444</td>\n",
       "    </tr>\n",
       "    <tr>\n",
       "      <th>std</th>\n",
       "      <td>1.705141e+07</td>\n",
       "      <td>0.988812</td>\n",
       "      <td>22.753618</td>\n",
       "      <td>98.255760</td>\n",
       "      <td>6.069649</td>\n",
       "      <td>1.740863</td>\n",
       "    </tr>\n",
       "    <tr>\n",
       "      <th>min</th>\n",
       "      <td>2.188090e+08</td>\n",
       "      <td>7.192000</td>\n",
       "      <td>73.689700</td>\n",
       "      <td>100.000000</td>\n",
       "      <td>15.000000</td>\n",
       "      <td>5.000000</td>\n",
       "    </tr>\n",
       "    <tr>\n",
       "      <th>25%</th>\n",
       "      <td>2.300254e+08</td>\n",
       "      <td>7.945500</td>\n",
       "      <td>79.314000</td>\n",
       "      <td>139.000000</td>\n",
       "      <td>26.830000</td>\n",
       "      <td>7.500000</td>\n",
       "    </tr>\n",
       "    <tr>\n",
       "      <th>50%</th>\n",
       "      <td>2.301820e+08</td>\n",
       "      <td>8.635400</td>\n",
       "      <td>85.423300</td>\n",
       "      <td>256.000000</td>\n",
       "      <td>30.990000</td>\n",
       "      <td>9.020000</td>\n",
       "    </tr>\n",
       "    <tr>\n",
       "      <th>75%</th>\n",
       "      <td>2.309610e+08</td>\n",
       "      <td>9.072900</td>\n",
       "      <td>109.931000</td>\n",
       "      <td>298.000000</td>\n",
       "      <td>32.890000</td>\n",
       "      <td>9.750000</td>\n",
       "    </tr>\n",
       "    <tr>\n",
       "      <th>max</th>\n",
       "      <td>2.768320e+08</td>\n",
       "      <td>9.912300</td>\n",
       "      <td>130.615700</td>\n",
       "      <td>366.000000</td>\n",
       "      <td>33.300000</td>\n",
       "      <td>10.490000</td>\n",
       "    </tr>\n",
       "  </tbody>\n",
       "</table>\n",
       "</div>"
      ],
      "text/plain": [
       "               MMSI     Speed         COG  Gross_tonnage     Length    Breadth\n",
       "count  9.000000e+00  9.000000    9.000000       9.000000   9.000000   9.000000\n",
       "mean   2.332114e+08  8.514444   97.381967     230.222222  28.562222   8.504444\n",
       "std    1.705141e+07  0.988812   22.753618      98.255760   6.069649   1.740863\n",
       "min    2.188090e+08  7.192000   73.689700     100.000000  15.000000   5.000000\n",
       "25%    2.300254e+08  7.945500   79.314000     139.000000  26.830000   7.500000\n",
       "50%    2.301820e+08  8.635400   85.423300     256.000000  30.990000   9.020000\n",
       "75%    2.309610e+08  9.072900  109.931000     298.000000  32.890000   9.750000\n",
       "max    2.768320e+08  9.912300  130.615700     366.000000  33.300000  10.490000"
      ]
     },
     "execution_count": 13,
     "metadata": {},
     "output_type": "execute_result"
    }
   ],
   "source": [
    "shipdata[shipdata['Ship_type'] == 'Tug'].describe()"
   ]
  },
  {
   "cell_type": "markdown",
   "metadata": {},
   "source": [
    "**Tug** has big difference between other ship type especially for ```Length``` and ```Breadth```. Therefore, we can induce that **Tug** is the smallest one"
   ]
  },
  {
   "cell_type": "markdown",
   "metadata": {},
   "source": [
    "# 2. Attribute value distributions\n",
    "#### a) Plot four histrograms of the speed using the Sturges', Scott's, square root and Freedman-Diaconis' methods to determine the number of bins. How are the numbers of bins calculated? Compare the distributions of different ship types. Is this a feasible attribute for classification?"
   ]
  },
  {
   "cell_type": "markdown",
   "metadata": {},
   "source": [
    "### Sturges' method"
   ]
  },
  {
   "cell_type": "markdown",
   "metadata": {},
   "source": [
    "First, let's check whether the number of data is above 30"
   ]
  },
  {
   "cell_type": "code",
   "execution_count": 14,
   "metadata": {},
   "outputs": [],
   "source": [
    "n = len(shipdata)"
   ]
  },
  {
   "cell_type": "code",
   "execution_count": 15,
   "metadata": {},
   "outputs": [
    {
     "data": {
      "text/plain": [
       "(array([ 2.,  1., 16., 24., 34., 33., 15.,  7.,  2.,  1.]),\n",
       " array([ 4.5409 ,  5.79506,  7.04922,  8.30338,  9.55754, 10.8117 ,\n",
       "        12.06586, 13.32002, 14.57418, 15.82834, 17.0825 ]),\n",
       " <a list of 10 Patch objects>)"
      ]
     },
     "execution_count": 15,
     "metadata": {},
     "output_type": "execute_result"
    },
    {
     "data": {
      "image/png": "[encoded data removed]",
      "text/plain": [
       "<Figure size 432x288 with 1 Axes>"
      ]
     },
     "metadata": {
      "needs_background": "light"
     },
     "output_type": "display_data"
    }
   ],
   "source": [
    "plt.hist(shipdata['Speed'])"
   ]
  },
  {
   "cell_type": "markdown",
   "metadata": {},
   "source": [
    "The distribution looks similar with normal distribution. Then let's determine the number of bins k with **Sturges' method**."
   ]
  },
  {
   "cell_type": "markdown",
   "metadata": {},
   "source": [
    "$$ k\\quad =\\quad \\left\\lceil { log }_{ 2 }(n)\\quad +\\quad 1 \\right\\rceil  $$"
   ]
  },
  {
   "cell_type": "code",
   "execution_count": 16,
   "metadata": {},
   "outputs": [
    {
     "data": {
      "text/plain": [
       "8.076815597050832"
      ]
     },
     "execution_count": 16,
     "metadata": {},
     "output_type": "execute_result"
    }
   ],
   "source": [
    "import math\n",
    "math.log(n, 2) + 1"
   ]
  },
  {
   "cell_type": "code",
   "execution_count": 17,
   "metadata": {},
   "outputs": [
    {
     "data": {
      "text/plain": [
       "(array([ 2.,  3., 23., 36., 29., 30.,  8.,  3.,  1.]),\n",
       " array([ 4.5409    ,  5.93441111,  7.32792222,  8.72143333, 10.11494444,\n",
       "        11.50845556, 12.90196667, 14.29547778, 15.68898889, 17.0825    ]),\n",
       " <a list of 9 Patch objects>)"
      ]
     },
     "execution_count": 17,
     "metadata": {},
     "output_type": "execute_result"
    },
    {
     "data": {
      "image/png": "[encoded data removed]",
      "text/plain": [
       "<Figure size 432x288 with 1 Axes>"
      ]
     },
     "metadata": {
      "needs_background": "light"
     },
     "output_type": "display_data"
    }
   ],
   "source": [
    "plt.hist(shipdata['Speed'], bins = math.ceil(math.log(n, 2)+1))"
   ]
  },
  {
   "cell_type": "markdown",
   "metadata": {},
   "source": [
    "It seems quite reasonable to describe data."
   ]
  },
  {
   "cell_type": "markdown",
   "metadata": {},
   "source": [
    "### Scott's method"
   ]
  },
  {
   "cell_type": "markdown",
   "metadata": {},
   "source": [
    "We can use **Scott's method** when we know the (sample) standard deviation."
   ]
  },
  {
   "cell_type": "markdown",
   "metadata": {},
   "source": [
    "$$ h\\quad =\\quad \\frac { 3.5s }{ { n }^{ 1/3 } } $$"
   ]
  },
  {
   "cell_type": "markdown",
   "metadata": {},
   "source": [
    "h is width of the bin. So we should calculate the number of bins."
   ]
  },
  {
   "cell_type": "code",
   "execution_count": 18,
   "metadata": {},
   "outputs": [
    {
     "data": {
      "text/plain": [
       "count    135.000000\n",
       "mean      10.407707\n",
       "std        2.010794\n",
       "min        4.540900\n",
       "25%        8.944500\n",
       "50%       10.263100\n",
       "75%       11.706200\n",
       "max       17.082500\n",
       "Name: Speed, dtype: float64"
      ]
     },
     "execution_count": 18,
     "metadata": {},
     "output_type": "execute_result"
    }
   ],
   "source": [
    "shipdata['Speed'].describe()"
   ]
  },
  {
   "cell_type": "code",
   "execution_count": 19,
   "metadata": {},
   "outputs": [
    {
     "data": {
      "text/plain": [
       "0.1563951019918662"
      ]
     },
     "execution_count": 19,
     "metadata": {},
     "output_type": "execute_result"
    }
   ],
   "source": [
    "bin_width = (3.5 * shipdata['Speed'].std())/(n**1/3)\n",
    "bin_width"
   ]
  },
  {
   "cell_type": "markdown",
   "metadata": {},
   "source": [
    "And print the number of k by using the total length of the given data. We can calculate with the info above with ```describe()```."
   ]
  },
  {
   "cell_type": "code",
   "execution_count": 20,
   "metadata": {},
   "outputs": [],
   "source": [
    "total_length = shipdata['Speed'].max() - shipdata['Speed'].min()\n",
    "bin_num = math.ceil(total_length/bin_width)"
   ]
  },
  {
   "cell_type": "code",
   "execution_count": 21,
   "metadata": {},
   "outputs": [
    {
     "data": {
      "text/plain": [
       "(array([1., 0., 0., 0., 0., 0., 1., 0., 0., 0., 0., 0., 0., 0., 1., 0., 0.,\n",
       "        2., 4., 2., 1., 4., 2., 1., 2., 3., 4., 3., 5., 3., 2., 1., 5., 5.,\n",
       "        6., 6., 5., 1., 3., 1., 4., 6., 4., 1., 4., 6., 6., 3., 3., 0., 6.,\n",
       "        1., 2., 3., 0., 0., 2., 1., 2., 2., 1., 0., 0., 1., 0., 1., 0., 0.,\n",
       "        0., 0., 0., 1., 0., 0., 0., 0., 0., 0., 0., 0., 1.]),\n",
       " array([ 4.5409    ,  4.69573457,  4.85056914,  5.0054037 ,  5.16023827,\n",
       "         5.31507284,  5.46990741,  5.62474198,  5.77957654,  5.93441111,\n",
       "         6.08924568,  6.24408025,  6.39891481,  6.55374938,  6.70858395,\n",
       "         6.86341852,  7.01825309,  7.17308765,  7.32792222,  7.48275679,\n",
       "         7.63759136,  7.79242593,  7.94726049,  8.10209506,  8.25692963,\n",
       "         8.4117642 ,  8.56659877,  8.72143333,  8.8762679 ,  9.03110247,\n",
       "         9.18593704,  9.3407716 ,  9.49560617,  9.65044074,  9.80527531,\n",
       "         9.96010988, 10.11494444, 10.26977901, 10.42461358, 10.57944815,\n",
       "        10.73428272, 10.88911728, 11.04395185, 11.19878642, 11.35362099,\n",
       "        11.50845556, 11.66329012, 11.81812469, 11.97295926, 12.12779383,\n",
       "        12.2826284 , 12.43746296, 12.59229753, 12.7471321 , 12.90196667,\n",
       "        13.05680123, 13.2116358 , 13.36647037, 13.52130494, 13.67613951,\n",
       "        13.83097407, 13.98580864, 14.14064321, 14.29547778, 14.45031235,\n",
       "        14.60514691, 14.75998148, 14.91481605, 15.06965062, 15.22448519,\n",
       "        15.37931975, 15.53415432, 15.68898889, 15.84382346, 15.99865802,\n",
       "        16.15349259, 16.30832716, 16.46316173, 16.6179963 , 16.77283086,\n",
       "        16.92766543, 17.0825    ]),\n",
       " <a list of 81 Patch objects>)"
      ]
     },
     "execution_count": 21,
     "metadata": {},
     "output_type": "execute_result"
    },
    {
     "data": {
      "image/png": "[encoded data removed]",
      "text/plain": [
       "<Figure size 432x288 with 1 Axes>"
      ]
     },
     "metadata": {
      "needs_background": "light"
     },
     "output_type": "display_data"
    }
   ],
   "source": [
    "plt.hist(shipdata['Speed'], bins = bin_num)"
   ]
  },
  {
   "cell_type": "markdown",
   "metadata": {},
   "source": [
    "### Square root method"
   ]
  },
  {
   "cell_type": "markdown",
   "metadata": {},
   "source": [
    "**Square root method** is the way how excel draws histogram. We can calculate the number of bins k with this method."
   ]
  },
  {
   "cell_type": "markdown",
   "metadata": {},
   "source": [
    "$$ k\\quad =\\quad \\sqrt { n }  $$"
   ]
  },
  {
   "cell_type": "code",
   "execution_count": 22,
   "metadata": {},
   "outputs": [
    {
     "data": {
      "text/plain": [
       "11.61895003862225"
      ]
     },
     "execution_count": 22,
     "metadata": {},
     "output_type": "execute_result"
    }
   ],
   "source": [
    "math.sqrt(n)"
   ]
  },
  {
   "cell_type": "markdown",
   "metadata": {},
   "source": [
    "Recommend number of bins is about 12."
   ]
  },
  {
   "cell_type": "code",
   "execution_count": 23,
   "metadata": {},
   "outputs": [
    {
     "data": {
      "text/plain": [
       "(array([ 2.,  0.,  9., 17., 22., 27., 29., 17.,  8.,  2.,  1.,  1.]),\n",
       " array([ 4.5409    ,  5.58603333,  6.63116667,  7.6763    ,  8.72143333,\n",
       "         9.76656667, 10.8117    , 11.85683333, 12.90196667, 13.9471    ,\n",
       "        14.99223333, 16.03736667, 17.0825    ]),\n",
       " <a list of 12 Patch objects>)"
      ]
     },
     "execution_count": 23,
     "metadata": {},
     "output_type": "execute_result"
    },
    {
     "data": {
      "image/png": "[encoded data removed]",
      "text/plain": [
       "<Figure size 432x288 with 1 Axes>"
      ]
     },
     "metadata": {
      "needs_background": "light"
     },
     "output_type": "display_data"
    }
   ],
   "source": [
    "plt.hist(shipdata['Speed'], bins = math.ceil(math.sqrt(n)))"
   ]
  },
  {
   "cell_type": "markdown",
   "metadata": {},
   "source": [
    "It seems reasonable to describe data."
   ]
  },
  {
   "cell_type": "markdown",
   "metadata": {},
   "source": [
    "### Freedman-Diaconis' method"
   ]
  },
  {
   "cell_type": "markdown",
   "metadata": {},
   "source": [
    "Otherwise, we can draw histogram with **Freedman-Diaconis** method."
   ]
  },
  {
   "cell_type": "markdown",
   "metadata": {},
   "source": [
    "$$ h\\quad =\\quad 2\\frac { IQR(x) }{ { n }^{ 1/3 } }  $$"
   ]
  },
  {
   "cell_type": "code",
   "execution_count": 24,
   "metadata": {},
   "outputs": [
    {
     "data": {
      "text/plain": [
       "count    135.000000\n",
       "mean      10.407707\n",
       "std        2.010794\n",
       "min        4.540900\n",
       "25%        8.944500\n",
       "50%       10.263100\n",
       "75%       11.706200\n",
       "max       17.082500\n",
       "Name: Speed, dtype: float64"
      ]
     },
     "execution_count": 24,
     "metadata": {},
     "output_type": "execute_result"
    }
   ],
   "source": [
    "shipdata['Speed'].describe()"
   ]
  },
  {
   "cell_type": "code",
   "execution_count": 25,
   "metadata": {},
   "outputs": [
    {
     "data": {
      "text/plain": [
       "2.7616999999999976"
      ]
     },
     "execution_count": 25,
     "metadata": {},
     "output_type": "execute_result"
    }
   ],
   "source": [
    "IQR = shipdata['Speed'].quantile(0.75) - shipdata['Speed'].quantile(0.25)\n",
    "IQR"
   ]
  },
  {
   "cell_type": "code",
   "execution_count": 26,
   "metadata": {},
   "outputs": [
    {
     "data": {
      "text/plain": [
       "(array([1., 0., 0., 0., 0., 0., 0., 0., 1., 0., 0., 0., 0., 0., 0., 0., 0.,\n",
       "        0., 1., 0., 0., 2., 0., 2., 3., 1., 2., 3., 1., 2., 0., 2., 3., 3.,\n",
       "        3., 3., 4., 1., 3., 1., 1., 4., 4., 3., 5., 8., 1., 2., 1., 2., 2.,\n",
       "        3., 5., 1., 4., 1., 4., 2., 7., 3., 3., 2., 1., 4., 3., 0., 0., 4.,\n",
       "        1., 0., 0., 2., 0., 2., 1., 1., 2., 0., 0., 0., 1., 0., 0., 1., 0.,\n",
       "        0., 0., 0., 0., 0., 1., 0., 0., 0., 0., 0., 0., 0., 0., 0., 0., 0.,\n",
       "        1.]),\n",
       " array([ 4.5409    ,  4.66266311,  4.78442621,  4.90618932,  5.02795243,\n",
       "         5.14971553,  5.27147864,  5.39324175,  5.51500485,  5.63676796,\n",
       "         5.75853107,  5.88029417,  6.00205728,  6.12382039,  6.2455835 ,\n",
       "         6.3673466 ,  6.48910971,  6.61087282,  6.73263592,  6.85439903,\n",
       "         6.97616214,  7.09792524,  7.21968835,  7.34145146,  7.46321456,\n",
       "         7.58497767,  7.70674078,  7.82850388,  7.95026699,  8.0720301 ,\n",
       "         8.1937932 ,  8.31555631,  8.43731942,  8.55908252,  8.68084563,\n",
       "         8.80260874,  8.92437184,  9.04613495,  9.16789806,  9.28966117,\n",
       "         9.41142427,  9.53318738,  9.65495049,  9.77671359,  9.8984767 ,\n",
       "        10.02023981, 10.14200291, 10.26376602, 10.38552913, 10.50729223,\n",
       "        10.62905534, 10.75081845, 10.87258155, 10.99434466, 11.11610777,\n",
       "        11.23787087, 11.35963398, 11.48139709, 11.60316019, 11.7249233 ,\n",
       "        11.84668641, 11.96844951, 12.09021262, 12.21197573, 12.33373883,\n",
       "        12.45550194, 12.57726505, 12.69902816, 12.82079126, 12.94255437,\n",
       "        13.06431748, 13.18608058, 13.30784369, 13.4296068 , 13.5513699 ,\n",
       "        13.67313301, 13.79489612, 13.91665922, 14.03842233, 14.16018544,\n",
       "        14.28194854, 14.40371165, 14.52547476, 14.64723786, 14.76900097,\n",
       "        14.89076408, 15.01252718, 15.13429029, 15.2560534 , 15.3778165 ,\n",
       "        15.49957961, 15.62134272, 15.74310583, 15.86486893, 15.98663204,\n",
       "        16.10839515, 16.23015825, 16.35192136, 16.47368447, 16.59544757,\n",
       "        16.71721068, 16.83897379, 16.96073689, 17.0825    ]),\n",
       " <a list of 103 Patch objects>)"
      ]
     },
     "execution_count": 26,
     "metadata": {},
     "output_type": "execute_result"
    },
    {
     "data": {
      "image/png": "[encoded data removed]",
      "text/plain": [
       "<Figure size 432x288 with 1 Axes>"
      ]
     },
     "metadata": {
      "needs_background": "light"
     },
     "output_type": "display_data"
    }
   ],
   "source": [
    "fd_h = 2 * (IQR) / (n**1/3)\n",
    "fd_k = total_length / fd_h\n",
    "\n",
    "plt.hist(shipdata['Speed'], bins = math.ceil(fd_k))"
   ]
  },
  {
   "cell_type": "markdown",
   "metadata": {},
   "source": [
    "Struges' and square root method seems reasonable to describe the distribution of the given data."
   ]
  },
  {
   "cell_type": "markdown",
   "metadata": {},
   "source": [
    "#### b)\tExplain what a boxplot is. Plot them for the attributes grouped by the ship type. Are there such outliers that something should be done to them?"
   ]
  },
  {
   "cell_type": "markdown",
   "metadata": {},
   "source": [
    "Boxplot is one way to summarize data into a plot. We need minimum, maximum, 25%, 50%, 75% of thhe data."
   ]
  },
  {
   "cell_type": "code",
   "execution_count": 27,
   "metadata": {},
   "outputs": [
    {
     "data": {
      "text/plain": [
       "{'whiskers': [<matplotlib.lines.Line2D at 0x23f711d7f98>,\n",
       "  <matplotlib.lines.Line2D at 0x23f711df5c0>],\n",
       " 'caps': [<matplotlib.lines.Line2D at 0x23f711df908>,\n",
       "  <matplotlib.lines.Line2D at 0x23f711dfc50>],\n",
       " 'boxes': [<matplotlib.lines.Line2D at 0x23f711d7e48>],\n",
       " 'medians': [<matplotlib.lines.Line2D at 0x23f711dff98>],\n",
       " 'fliers': [<matplotlib.lines.Line2D at 0x23f711ea320>],\n",
       " 'means': []}"
      ]
     },
     "execution_count": 27,
     "metadata": {},
     "output_type": "execute_result"
    },
    {
     "data": {
      "image/png": "[encoded data removed]",
      "text/plain": [
       "<Figure size 432x288 with 6 Axes>"
      ]
     },
     "metadata": {
      "needs_background": "light"
     },
     "output_type": "display_data"
    }
   ],
   "source": [
    "cargo_data = shipdata[shipdata['Ship_type'] == 'Cargo']\n",
    "\n",
    "plt.subplot(2,3,1)\n",
    "plt.boxplot(cargo_data['MMSI'])\n",
    "\n",
    "plt.subplot(2,3,2)\n",
    "plt.boxplot(cargo_data['Speed'])\n",
    "\n",
    "plt.subplot(2,3,3)\n",
    "plt.boxplot(cargo_data['COG'])\n",
    "\n",
    "plt.subplot(2,3,4)\n",
    "plt.boxplot(cargo_data['Gross_tonnage'])\n",
    "\n",
    "plt.subplot(2,3,5)\n",
    "plt.boxplot(cargo_data['Length'])\n",
    "\n",
    "plt.subplot(2,3,6)\n",
    "plt.boxplot(cargo_data['Breadth'])"
   ]
  },
  {
   "cell_type": "code",
   "execution_count": 28,
   "metadata": {},
   "outputs": [
    {
     "data": {
      "text/plain": [
       "{'whiskers': [<matplotlib.lines.Line2D at 0x23f713a94e0>,\n",
       "  <matplotlib.lines.Line2D at 0x23f713a9828>],\n",
       " 'caps': [<matplotlib.lines.Line2D at 0x23f713a9b70>,\n",
       "  <matplotlib.lines.Line2D at 0x23f713a9eb8>],\n",
       " 'boxes': [<matplotlib.lines.Line2D at 0x23f713a90f0>],\n",
       " 'medians': [<matplotlib.lines.Line2D at 0x23f713a9f98>],\n",
       " 'fliers': [<matplotlib.lines.Line2D at 0x23f713b4588>],\n",
       " 'means': []}"
      ]
     },
     "execution_count": 28,
     "metadata": {},
     "output_type": "execute_result"
    },
    {
     "data": {
      "image/png": "[encoded data removed]",
      "text/plain": [
       "<Figure size 432x288 with 6 Axes>"
      ]
     },
     "metadata": {
      "needs_background": "light"
     },
     "output_type": "display_data"
    }
   ],
   "source": [
    "tanker_data = shipdata[shipdata['Ship_type'] == 'Tanker']\n",
    "\n",
    "plt.subplot(2,3,1)\n",
    "plt.boxplot(tanker_data['MMSI'])\n",
    "\n",
    "plt.subplot(2,3,2)\n",
    "plt.boxplot(tanker_data['Speed'])\n",
    "\n",
    "plt.subplot(2,3,3)\n",
    "plt.boxplot(tanker_data['COG'])\n",
    "\n",
    "plt.subplot(2,3,4)\n",
    "plt.boxplot(tanker_data['Gross_tonnage'])\n",
    "\n",
    "plt.subplot(2,3,5)\n",
    "plt.boxplot(tanker_data['Length'])\n",
    "\n",
    "plt.subplot(2,3,6)\n",
    "plt.boxplot(tanker_data['Breadth'])"
   ]
  },
  {
   "cell_type": "code",
   "execution_count": 29,
   "metadata": {},
   "outputs": [
    {
     "data": {
      "text/plain": [
       "{'whiskers': [<matplotlib.lines.Line2D at 0x23f71573630>,\n",
       "  <matplotlib.lines.Line2D at 0x23f71573978>],\n",
       " 'caps': [<matplotlib.lines.Line2D at 0x23f71573cc0>,\n",
       "  <matplotlib.lines.Line2D at 0x23f71573da0>],\n",
       " 'boxes': [<matplotlib.lines.Line2D at 0x23f71573240>],\n",
       " 'medians': [<matplotlib.lines.Line2D at 0x23f7157d390>],\n",
       " 'fliers': [<matplotlib.lines.Line2D at 0x23f7157d6d8>],\n",
       " 'means': []}"
      ]
     },
     "execution_count": 29,
     "metadata": {},
     "output_type": "execute_result"
    },
    {
     "data": {
      "image/png": "[encoded data removed]",
      "text/plain": [
       "<Figure size 432x288 with 6 Axes>"
      ]
     },
     "metadata": {
      "needs_background": "light"
     },
     "output_type": "display_data"
    }
   ],
   "source": [
    "tug_data = shipdata[shipdata['Ship_type'] == 'Tug']\n",
    "\n",
    "plt.subplot(2,3,1)\n",
    "plt.boxplot(tug_data['MMSI'])\n",
    "\n",
    "plt.subplot(2,3,2)\n",
    "plt.boxplot(tug_data['Speed'])\n",
    "\n",
    "plt.subplot(2,3,3)\n",
    "plt.boxplot(tug_data['COG'])\n",
    "\n",
    "plt.subplot(2,3,4)\n",
    "plt.boxplot(tug_data['Gross_tonnage'])\n",
    "\n",
    "plt.subplot(2,3,5)\n",
    "plt.boxplot(tug_data['Length'])\n",
    "\n",
    "plt.subplot(2,3,6)\n",
    "plt.boxplot(tug_data['Breadth'])"
   ]
  },
  {
   "cell_type": "markdown",
   "metadata": {},
   "source": [
    "If those outliers seem not to affect the mainstream of given data, then it is recommended to remove them. However it is strongly recommended to double-check whether the measurement is wrong or not if outliers are too much and seem to affect the distribution of given data.    \n",
    "\n",
    "Also it seems reasonable to classify by ```Ship_type```"
   ]
  },
  {
   "cell_type": "markdown",
   "metadata": {},
   "source": [
    "# 3. Relationships between attributes\n",
    "#### a) Plot pairwise scatter plots of the numerical attributes. What kind of relationships can you see? Can you see any outliers? "
   ]
  },
  {
   "cell_type": "code",
   "execution_count": 30,
   "metadata": {},
   "outputs": [
    {
     "data": {
      "text/plain": [
       "array([[<matplotlib.axes._subplots.AxesSubplot object at 0x0000023F715D8320>,\n",
       "        <matplotlib.axes._subplots.AxesSubplot object at 0x0000023F715930B8>,\n",
       "        <matplotlib.axes._subplots.AxesSubplot object at 0x0000023F71643208>,\n",
       "        <matplotlib.axes._subplots.AxesSubplot object at 0x0000023F7166A780>,\n",
       "        <matplotlib.axes._subplots.AxesSubplot object at 0x0000023F71691CF8>,\n",
       "        <matplotlib.axes._subplots.AxesSubplot object at 0x0000023F716C12B0>],\n",
       "       [<matplotlib.axes._subplots.AxesSubplot object at 0x0000023F716E7828>,\n",
       "        <matplotlib.axes._subplots.AxesSubplot object at 0x0000023F71710DD8>,\n",
       "        <matplotlib.axes._subplots.AxesSubplot object at 0x0000023F71710E10>,\n",
       "        <matplotlib.axes._subplots.AxesSubplot object at 0x0000023F717678D0>,\n",
       "        <matplotlib.axes._subplots.AxesSubplot object at 0x0000023F7178FE48>,\n",
       "        <matplotlib.axes._subplots.AxesSubplot object at 0x0000023F717C2400>],\n",
       "       [<matplotlib.axes._subplots.AxesSubplot object at 0x0000023F717E8978>,\n",
       "        <matplotlib.axes._subplots.AxesSubplot object at 0x0000023F71812EF0>,\n",
       "        <matplotlib.axes._subplots.AxesSubplot object at 0x0000023F718424A8>,\n",
       "        <matplotlib.axes._subplots.AxesSubplot object at 0x0000023F718688D0>,\n",
       "        <matplotlib.axes._subplots.AxesSubplot object at 0x0000023F71892E48>,\n",
       "        <matplotlib.axes._subplots.AxesSubplot object at 0x0000023F718C1400>],\n",
       "       [<matplotlib.axes._subplots.AxesSubplot object at 0x0000023F718EB978>,\n",
       "        <matplotlib.axes._subplots.AxesSubplot object at 0x0000023F71912EF0>,\n",
       "        <matplotlib.axes._subplots.AxesSubplot object at 0x0000023F719454A8>,\n",
       "        <matplotlib.axes._subplots.AxesSubplot object at 0x0000023F7196EA20>,\n",
       "        <matplotlib.axes._subplots.AxesSubplot object at 0x0000023F71996F98>,\n",
       "        <matplotlib.axes._subplots.AxesSubplot object at 0x0000023F719C5550>],\n",
       "       [<matplotlib.axes._subplots.AxesSubplot object at 0x0000023F719EFAC8>,\n",
       "        <matplotlib.axes._subplots.AxesSubplot object at 0x0000023F71A1E080>,\n",
       "        <matplotlib.axes._subplots.AxesSubplot object at 0x0000023F71A475F8>,\n",
       "        <matplotlib.axes._subplots.AxesSubplot object at 0x0000023F71A6DB70>,\n",
       "        <matplotlib.axes._subplots.AxesSubplot object at 0x0000023F71A9F128>,\n",
       "        <matplotlib.axes._subplots.AxesSubplot object at 0x0000023F71AC76A0>],\n",
       "       [<matplotlib.axes._subplots.AxesSubplot object at 0x0000023F71AF2C18>,\n",
       "        <matplotlib.axes._subplots.AxesSubplot object at 0x0000023F71B221D0>,\n",
       "        <matplotlib.axes._subplots.AxesSubplot object at 0x0000023F71B49748>,\n",
       "        <matplotlib.axes._subplots.AxesSubplot object at 0x0000023F71B70CC0>,\n",
       "        <matplotlib.axes._subplots.AxesSubplot object at 0x0000023F71BA3278>,\n",
       "        <matplotlib.axes._subplots.AxesSubplot object at 0x0000023F71BC87F0>]],\n",
       "      dtype=object)"
      ]
     },
     "execution_count": 30,
     "metadata": {},
     "output_type": "execute_result"
    },
    {
     "data": {
      "image/png": "[encoded data removed]",
      "text/plain": [
       "<Figure size 1440x1440 with 36 Axes>"
      ]
     },
     "metadata": {
      "needs_background": "light"
     },
     "output_type": "display_data"
    }
   ],
   "source": [
    "pd.plotting.scatter_matrix(shipdata, figsize = (20,20))"
   ]
  },
  {
   "cell_type": "markdown",
   "metadata": {},
   "source": [
    "We can find some interesting relationship between variables.\n",
    "   \n",
    "- ```Gross_tonnage``` and ```Length```\n",
    "    The relationship seems nonlinear. What about put log into x variable?\n",
    "- ```Gross_tonnage``` and ```Breadth```\n",
    "    The relationship seems nonlinear.\n",
    "- ```Length``` and ```Breadth```\n",
    "    The relationship seems linear, and the slope of graph is rapid."
   ]
  },
  {
   "cell_type": "code",
   "execution_count": 31,
   "metadata": {},
   "outputs": [
    {
     "data": {
      "text/plain": [
       "<matplotlib.collections.PathCollection at 0x23f7101ac18>"
      ]
     },
     "execution_count": 31,
     "metadata": {},
     "output_type": "execute_result"
    },
    {
     "data": {
      "image/png": "[encoded data removed]",
      "text/plain": [
       "<Figure size 432x288 with 1 Axes>"
      ]
     },
     "metadata": {
      "needs_background": "light"
     },
     "output_type": "display_data"
    }
   ],
   "source": [
    "import numpy as np\n",
    "shipdata['ln_Gross_tonnage'] = np.log(shipdata['Gross_tonnage'])\n",
    "plt.scatter(shipdata['ln_Gross_tonnage'], shipdata['Length'])"
   ]
  },
  {
   "cell_type": "markdown",
   "metadata": {},
   "source": [
    "It turned to be normalized."
   ]
  },
  {
   "cell_type": "markdown",
   "metadata": {},
   "source": [
    "#### b) What are Pearson's correlation, Spearman's rho and Kendall's tau? Calculate the correlation coefficient matrices. What kind of relationships there are between the attributes? Does the detected outlier affect the correlation? You can use heatmap to visualize the matrices and more easily see the strength of the relationship."
   ]
  },
  {
   "cell_type": "markdown",
   "metadata": {},
   "source": [
    "### Pearson's correlation"
   ]
  },
  {
   "cell_type": "markdown",
   "metadata": {},
   "source": [
    "$$ r\\quad =\\quad \\frac { \\frac { \\sum { (X-\\overline { X } )(Y-\\overline { Y } ) }  }{ n-1 }  }{ \\sqrt { \\frac { \\sum { { (X-\\overline { X } ) }^{ 2 } }  }{ n-1 }  } \\sqrt { \\frac { \\sum { { (Y-\\overline { Y } ) }^{ 2 } }  }{ n-1 }  }  } =\\frac { \\sum { (X-\\overline { X } )(Y-\\overline { Y } ) }  }{ \\sqrt { \\sum { { (X-\\overline { X } ) }^{ 2 } }  } \\sqrt { \\sum { { (Y-\\overline { Y } ) }^{ 2 } }  }  } =\\frac { { s }_{ xy } }{ { s }_{ x }{ s }_{ y } }  $$"
   ]
  },
  {
   "cell_type": "markdown",
   "metadata": {},
   "source": [
    "Pearson's correlation is one way to measure <u>the strength of linear relationship between two continuous variables</u>. We can calculate it by dividing covaraicne into standard deviation of each variables.    \n",
    "$$ -1\\le r\\le 1 $$ \n",
    "Positive r means positive linear relationship and negative means negative linear relationship. The absolute value of r means stregth of linear relationship. Therefore every dots will be on one line if the absolute value of r is 1.    "
   ]
  },
  {
   "cell_type": "code",
   "execution_count": 32,
   "metadata": {},
   "outputs": [],
   "source": [
    "shipdata = pd.read_excel('shipdata_2019.xlsx')"
   ]
  },
  {
   "cell_type": "code",
   "execution_count": 33,
   "metadata": {
    "scrolled": true
   },
   "outputs": [
    {
     "data": {
      "text/html": [
       "<div>\n",
       "<style scoped>\n",
       "    .dataframe tbody tr th:only-of-type {\n",
       "        vertical-align: middle;\n",
       "    }\n",
       "\n",
       "    .dataframe tbody tr th {\n",
       "        vertical-align: top;\n",
       "    }\n",
       "\n",
       "    .dataframe thead th {\n",
       "        text-align: right;\n",
       "    }\n",
       "</style>\n",
       "<table border=\"1\" class=\"dataframe\">\n",
       "  <thead>\n",
       "    <tr style=\"text-align: right;\">\n",
       "      <th></th>\n",
       "      <th>MMSI</th>\n",
       "      <th>Speed</th>\n",
       "      <th>COG</th>\n",
       "      <th>Gross_tonnage</th>\n",
       "      <th>Length</th>\n",
       "      <th>Breadth</th>\n",
       "    </tr>\n",
       "  </thead>\n",
       "  <tbody>\n",
       "    <tr>\n",
       "      <th>MMSI</th>\n",
       "      <td>1.000000</td>\n",
       "      <td>0.139441</td>\n",
       "      <td>-0.018549</td>\n",
       "      <td>0.517869</td>\n",
       "      <td>0.270662</td>\n",
       "      <td>0.549738</td>\n",
       "    </tr>\n",
       "    <tr>\n",
       "      <th>Speed</th>\n",
       "      <td>0.139441</td>\n",
       "      <td>1.000000</td>\n",
       "      <td>-0.149721</td>\n",
       "      <td>0.208190</td>\n",
       "      <td>0.272795</td>\n",
       "      <td>0.297126</td>\n",
       "    </tr>\n",
       "    <tr>\n",
       "      <th>COG</th>\n",
       "      <td>-0.018549</td>\n",
       "      <td>-0.149721</td>\n",
       "      <td>1.000000</td>\n",
       "      <td>-0.014073</td>\n",
       "      <td>-0.159402</td>\n",
       "      <td>-0.055518</td>\n",
       "    </tr>\n",
       "    <tr>\n",
       "      <th>Gross_tonnage</th>\n",
       "      <td>0.517869</td>\n",
       "      <td>0.208190</td>\n",
       "      <td>-0.014073</td>\n",
       "      <td>1.000000</td>\n",
       "      <td>0.517889</td>\n",
       "      <td>0.953737</td>\n",
       "    </tr>\n",
       "    <tr>\n",
       "      <th>Length</th>\n",
       "      <td>0.270662</td>\n",
       "      <td>0.272795</td>\n",
       "      <td>-0.159402</td>\n",
       "      <td>0.517889</td>\n",
       "      <td>1.000000</td>\n",
       "      <td>0.563628</td>\n",
       "    </tr>\n",
       "    <tr>\n",
       "      <th>Breadth</th>\n",
       "      <td>0.549738</td>\n",
       "      <td>0.297126</td>\n",
       "      <td>-0.055518</td>\n",
       "      <td>0.953737</td>\n",
       "      <td>0.563628</td>\n",
       "      <td>1.000000</td>\n",
       "    </tr>\n",
       "  </tbody>\n",
       "</table>\n",
       "</div>"
      ],
      "text/plain": [
       "                   MMSI     Speed       COG  Gross_tonnage    Length   Breadth\n",
       "MMSI           1.000000  0.139441 -0.018549       0.517869  0.270662  0.549738\n",
       "Speed          0.139441  1.000000 -0.149721       0.208190  0.272795  0.297126\n",
       "COG           -0.018549 -0.149721  1.000000      -0.014073 -0.159402 -0.055518\n",
       "Gross_tonnage  0.517869  0.208190 -0.014073       1.000000  0.517889  0.953737\n",
       "Length         0.270662  0.272795 -0.159402       0.517889  1.000000  0.563628\n",
       "Breadth        0.549738  0.297126 -0.055518       0.953737  0.563628  1.000000"
      ]
     },
     "execution_count": 33,
     "metadata": {},
     "output_type": "execute_result"
    }
   ],
   "source": [
    "pearson_corr = shipdata.corr(method = 'pearson')\n",
    "pearson_corr"
   ]
  },
  {
   "cell_type": "code",
   "execution_count": 34,
   "metadata": {},
   "outputs": [
    {
     "data": {
      "text/plain": [
       "<matplotlib.colorbar.Colorbar at 0x23f7307d3c8>"
      ]
     },
     "execution_count": 34,
     "metadata": {},
     "output_type": "execute_result"
    },
    {
     "data": {
      "image/png": "[encoded data removed]",
      "text/plain": [
       "<Figure size 432x288 with 2 Axes>"
      ]
     },
     "metadata": {
      "needs_background": "light"
     },
     "output_type": "display_data"
    }
   ],
   "source": [
    "plt.pcolor(pearson_corr)\n",
    "plt.xticks(np.arange(0.5, len(pearson_corr.columns), 1), pearson_corr.columns)\n",
    "plt.xticks(np.arange(0.5, len(pearson_corr.index), 1), pearson_corr.index)\n",
    "plt.colorbar()"
   ]
  },
  {
   "cell_type": "markdown",
   "metadata": {},
   "source": [
    "### Spearman's rank correlation coefficient"
   ]
  },
  {
   "cell_type": "markdown",
   "metadata": {},
   "source": [
    "$$ \\rho \\quad =\\quad 1\\quad -\\quad 6\\frac { \\sum { { (r({ x }_{ i })-r({ y }_{ i })) }^{ 2 } }  }{ n({ n }^{ 2 }-1) }  $$"
   ]
  },
  {
   "cell_type": "markdown",
   "metadata": {},
   "source": [
    "Spearman use <u>rank order</u> rather than actual value of data. Therefore, we can also analysis ordinal varialbes. Also it is **robust to outliers** because it uses the rank.    "
   ]
  },
  {
   "cell_type": "code",
   "execution_count": 35,
   "metadata": {},
   "outputs": [
    {
     "data": {
      "text/html": [
       "<div>\n",
       "<style scoped>\n",
       "    .dataframe tbody tr th:only-of-type {\n",
       "        vertical-align: middle;\n",
       "    }\n",
       "\n",
       "    .dataframe tbody tr th {\n",
       "        vertical-align: top;\n",
       "    }\n",
       "\n",
       "    .dataframe thead th {\n",
       "        text-align: right;\n",
       "    }\n",
       "</style>\n",
       "<table border=\"1\" class=\"dataframe\">\n",
       "  <thead>\n",
       "    <tr style=\"text-align: right;\">\n",
       "      <th></th>\n",
       "      <th>MMSI</th>\n",
       "      <th>Speed</th>\n",
       "      <th>COG</th>\n",
       "      <th>Gross_tonnage</th>\n",
       "      <th>Length</th>\n",
       "      <th>Breadth</th>\n",
       "    </tr>\n",
       "  </thead>\n",
       "  <tbody>\n",
       "    <tr>\n",
       "      <th>MMSI</th>\n",
       "      <td>1.000000</td>\n",
       "      <td>0.146474</td>\n",
       "      <td>0.016579</td>\n",
       "      <td>0.459488</td>\n",
       "      <td>0.443161</td>\n",
       "      <td>0.468279</td>\n",
       "    </tr>\n",
       "    <tr>\n",
       "      <th>Speed</th>\n",
       "      <td>0.146474</td>\n",
       "      <td>1.000000</td>\n",
       "      <td>-0.196932</td>\n",
       "      <td>0.454907</td>\n",
       "      <td>0.404689</td>\n",
       "      <td>0.458933</td>\n",
       "    </tr>\n",
       "    <tr>\n",
       "      <th>COG</th>\n",
       "      <td>0.016579</td>\n",
       "      <td>-0.196932</td>\n",
       "      <td>1.000000</td>\n",
       "      <td>0.031788</td>\n",
       "      <td>0.024575</td>\n",
       "      <td>0.032588</td>\n",
       "    </tr>\n",
       "    <tr>\n",
       "      <th>Gross_tonnage</th>\n",
       "      <td>0.459488</td>\n",
       "      <td>0.454907</td>\n",
       "      <td>0.031788</td>\n",
       "      <td>1.000000</td>\n",
       "      <td>0.961197</td>\n",
       "      <td>0.983347</td>\n",
       "    </tr>\n",
       "    <tr>\n",
       "      <th>Length</th>\n",
       "      <td>0.443161</td>\n",
       "      <td>0.404689</td>\n",
       "      <td>0.024575</td>\n",
       "      <td>0.961197</td>\n",
       "      <td>1.000000</td>\n",
       "      <td>0.954006</td>\n",
       "    </tr>\n",
       "    <tr>\n",
       "      <th>Breadth</th>\n",
       "      <td>0.468279</td>\n",
       "      <td>0.458933</td>\n",
       "      <td>0.032588</td>\n",
       "      <td>0.983347</td>\n",
       "      <td>0.954006</td>\n",
       "      <td>1.000000</td>\n",
       "    </tr>\n",
       "  </tbody>\n",
       "</table>\n",
       "</div>"
      ],
      "text/plain": [
       "                   MMSI     Speed       COG  Gross_tonnage    Length   Breadth\n",
       "MMSI           1.000000  0.146474  0.016579       0.459488  0.443161  0.468279\n",
       "Speed          0.146474  1.000000 -0.196932       0.454907  0.404689  0.458933\n",
       "COG            0.016579 -0.196932  1.000000       0.031788  0.024575  0.032588\n",
       "Gross_tonnage  0.459488  0.454907  0.031788       1.000000  0.961197  0.983347\n",
       "Length         0.443161  0.404689  0.024575       0.961197  1.000000  0.954006\n",
       "Breadth        0.468279  0.458933  0.032588       0.983347  0.954006  1.000000"
      ]
     },
     "execution_count": 35,
     "metadata": {},
     "output_type": "execute_result"
    }
   ],
   "source": [
    "spearman_corr = shipdata.corr(method = 'spearman')\n",
    "spearman_corr"
   ]
  },
  {
   "cell_type": "code",
   "execution_count": 36,
   "metadata": {},
   "outputs": [
    {
     "data": {
      "text/plain": [
       "<matplotlib.colorbar.Colorbar at 0x23f73104da0>"
      ]
     },
     "execution_count": 36,
     "metadata": {},
     "output_type": "execute_result"
    },
    {
     "data": {
      "image/png": "[encoded data removed]",
      "text/plain": [
       "<Figure size 432x288 with 2 Axes>"
      ]
     },
     "metadata": {
      "needs_background": "light"
     },
     "output_type": "display_data"
    }
   ],
   "source": [
    "plt.pcolor(spearman_corr)\n",
    "plt.xticks(np.arange(0.5, len(spearman_corr.columns), 1), spearman_corr.columns)\n",
    "plt.xticks(np.arange(0.5, len(spearman_corr.index), 1), spearman_corr.index)\n",
    "plt.colorbar()"
   ]
  },
  {
   "cell_type": "markdown",
   "metadata": {},
   "source": [
    "### Kendall's tau"
   ]
  },
  {
   "cell_type": "markdown",
   "metadata": {},
   "source": [
    "$$ { \\tau  }_{ a }\\quad =\\quad \\frac { C\\quad -\\quad D }{ \\frac { 1 }{ 2 } n(n-1) }  $$"
   ]
  },
  {
   "cell_type": "markdown",
   "metadata": {},
   "source": [
    "It is quite similar with Spearman becuase it also use the rank order. First, arrange varaible x as the size itself. Then, check y which corresponds to x and analysis how y correspond to the rank order of x. Also it is **robust to outliers** because it uses the rank.       \n",
    "   \n",
    "Let C is the number of corresponding matches, and D is not corresponding one. Then put it into the formula and calculate. "
   ]
  },
  {
   "cell_type": "code",
   "execution_count": 37,
   "metadata": {},
   "outputs": [
    {
     "data": {
      "text/html": [
       "<div>\n",
       "<style scoped>\n",
       "    .dataframe tbody tr th:only-of-type {\n",
       "        vertical-align: middle;\n",
       "    }\n",
       "\n",
       "    .dataframe tbody tr th {\n",
       "        vertical-align: top;\n",
       "    }\n",
       "\n",
       "    .dataframe thead th {\n",
       "        text-align: right;\n",
       "    }\n",
       "</style>\n",
       "<table border=\"1\" class=\"dataframe\">\n",
       "  <thead>\n",
       "    <tr style=\"text-align: right;\">\n",
       "      <th></th>\n",
       "      <th>MMSI</th>\n",
       "      <th>Speed</th>\n",
       "      <th>COG</th>\n",
       "      <th>Gross_tonnage</th>\n",
       "      <th>Length</th>\n",
       "      <th>Breadth</th>\n",
       "    </tr>\n",
       "  </thead>\n",
       "  <tbody>\n",
       "    <tr>\n",
       "      <th>MMSI</th>\n",
       "      <td>1.000000</td>\n",
       "      <td>0.104815</td>\n",
       "      <td>0.002654</td>\n",
       "      <td>0.319080</td>\n",
       "      <td>0.311313</td>\n",
       "      <td>0.328451</td>\n",
       "    </tr>\n",
       "    <tr>\n",
       "      <th>Speed</th>\n",
       "      <td>0.104815</td>\n",
       "      <td>1.000000</td>\n",
       "      <td>-0.133002</td>\n",
       "      <td>0.318066</td>\n",
       "      <td>0.283168</td>\n",
       "      <td>0.319106</td>\n",
       "    </tr>\n",
       "    <tr>\n",
       "      <th>COG</th>\n",
       "      <td>0.002654</td>\n",
       "      <td>-0.133002</td>\n",
       "      <td>1.000000</td>\n",
       "      <td>0.026220</td>\n",
       "      <td>0.021373</td>\n",
       "      <td>0.022651</td>\n",
       "    </tr>\n",
       "    <tr>\n",
       "      <th>Gross_tonnage</th>\n",
       "      <td>0.319080</td>\n",
       "      <td>0.318066</td>\n",
       "      <td>0.026220</td>\n",
       "      <td>1.000000</td>\n",
       "      <td>0.872452</td>\n",
       "      <td>0.911511</td>\n",
       "    </tr>\n",
       "    <tr>\n",
       "      <th>Length</th>\n",
       "      <td>0.311313</td>\n",
       "      <td>0.283168</td>\n",
       "      <td>0.021373</td>\n",
       "      <td>0.872452</td>\n",
       "      <td>1.000000</td>\n",
       "      <td>0.845690</td>\n",
       "    </tr>\n",
       "    <tr>\n",
       "      <th>Breadth</th>\n",
       "      <td>0.328451</td>\n",
       "      <td>0.319106</td>\n",
       "      <td>0.022651</td>\n",
       "      <td>0.911511</td>\n",
       "      <td>0.845690</td>\n",
       "      <td>1.000000</td>\n",
       "    </tr>\n",
       "  </tbody>\n",
       "</table>\n",
       "</div>"
      ],
      "text/plain": [
       "                   MMSI     Speed       COG  Gross_tonnage    Length   Breadth\n",
       "MMSI           1.000000  0.104815  0.002654       0.319080  0.311313  0.328451\n",
       "Speed          0.104815  1.000000 -0.133002       0.318066  0.283168  0.319106\n",
       "COG            0.002654 -0.133002  1.000000       0.026220  0.021373  0.022651\n",
       "Gross_tonnage  0.319080  0.318066  0.026220       1.000000  0.872452  0.911511\n",
       "Length         0.311313  0.283168  0.021373       0.872452  1.000000  0.845690\n",
       "Breadth        0.328451  0.319106  0.022651       0.911511  0.845690  1.000000"
      ]
     },
     "execution_count": 37,
     "metadata": {},
     "output_type": "execute_result"
    }
   ],
   "source": [
    "kendall_corr = shipdata.corr(method = 'kendall')\n",
    "kendall_corr"
   ]
  },
  {
   "cell_type": "code",
   "execution_count": 38,
   "metadata": {},
   "outputs": [
    {
     "data": {
      "text/plain": [
       "<matplotlib.colorbar.Colorbar at 0x23f7319a048>"
      ]
     },
     "execution_count": 38,
     "metadata": {},
     "output_type": "execute_result"
    },
    {
     "data": {
      "image/png": "[encoded data removed]",
      "text/plain": [
       "<Figure size 432x288 with 2 Axes>"
      ]
     },
     "metadata": {
      "needs_background": "light"
     },
     "output_type": "display_data"
    }
   ],
   "source": [
    "plt.pcolor(kendall_corr)\n",
    "plt.xticks(np.arange(0.5, len(kendall_corr.columns), 1), kendall_corr.columns)\n",
    "plt.xticks(np.arange(0.5, len(kendall_corr.index), 1), kendall_corr.index)\n",
    "plt.colorbar()"
   ]
  },
  {
   "cell_type": "markdown",
   "metadata": {},
   "source": [
    "# 4. Dimensionality reduction\n",
    "#### Explain what principal component analysis is. Do that with and without z-score normalization. Visualize the results with a scatter plot by projecting the data to the first two principal components. How much of the variation is explained with the two principal components?"
   ]
  },
  {
   "cell_type": "markdown",
   "metadata": {},
   "source": [
    "Principal component is changing unfamilar demension into familiar demnsion, prjoecting from high-demensional space to lower one. Z-score normalization makes the data to be placed in same range.   \n",
    "\n",
    "Then we may worry whether the feature of data would change during the projection. However, we use the concept of **eigenvector** to use PCA. Eigenvector is efficient to use because it keeps the main feature of given data."
   ]
  },
  {
   "cell_type": "markdown",
   "metadata": {},
   "source": [
    "### 4-1. Separate feature and label"
   ]
  },
  {
   "cell_type": "code",
   "execution_count": 39,
   "metadata": {},
   "outputs": [],
   "source": [
    "X = shipdata[['MMSI', 'Speed', 'COG', 'Gross_tonnage', 'Length', 'Breadth']]"
   ]
  },
  {
   "cell_type": "code",
   "execution_count": 40,
   "metadata": {},
   "outputs": [],
   "source": [
    "Y = shipdata[['Destination', 'Ship_type']]"
   ]
  },
  {
   "cell_type": "markdown",
   "metadata": {},
   "source": [
    "### 4-2 Center data"
   ]
  },
  {
   "cell_type": "code",
   "execution_count": 41,
   "metadata": {},
   "outputs": [],
   "source": [
    "m = X.shape[0]\n",
    "Z = X - np.mean(X, axis = 0)"
   ]
  },
  {
   "cell_type": "markdown",
   "metadata": {},
   "source": [
    "### 4-3 Make covariance matrix of features"
   ]
  },
  {
   "cell_type": "code",
   "execution_count": 42,
   "metadata": {},
   "outputs": [],
   "source": [
    "C = Z.T@Z/(m-1)"
   ]
  },
  {
   "cell_type": "markdown",
   "metadata": {},
   "source": [
    "### 4-4 Make eigenvalues and eigenvectors"
   ]
  },
  {
   "cell_type": "code",
   "execution_count": 43,
   "metadata": {},
   "outputs": [],
   "source": [
    "evals, evecs = np.linalg.eigh(C)"
   ]
  },
  {
   "cell_type": "markdown",
   "metadata": {},
   "source": [
    "### 4-5 Sort eigenvalues in decreasing order"
   ]
  },
  {
   "cell_type": "code",
   "execution_count": 44,
   "metadata": {},
   "outputs": [],
   "source": [
    "idx = np.argsort(evals)[::-1]"
   ]
  },
  {
   "cell_type": "code",
   "execution_count": 45,
   "metadata": {},
   "outputs": [],
   "source": [
    "evecs = evecs[:, idx]"
   ]
  },
  {
   "cell_type": "markdown",
   "metadata": {},
   "source": [
    "### 4-6 Pick eigenvectors corresponding to 2 largest eigenvalues"
   ]
  },
  {
   "cell_type": "code",
   "execution_count": 46,
   "metadata": {},
   "outputs": [],
   "source": [
    "M = evecs[:,:2].T"
   ]
  },
  {
   "cell_type": "markdown",
   "metadata": {},
   "source": [
    "### 4-7 Project data"
   ]
  },
  {
   "cell_type": "code",
   "execution_count": 47,
   "metadata": {},
   "outputs": [],
   "source": [
    "Z_mapped = (M@Z.T).T"
   ]
  },
  {
   "cell_type": "code",
   "execution_count": 48,
   "metadata": {},
   "outputs": [
    {
     "data": {
      "text/html": [
       "<div>\n",
       "<style scoped>\n",
       "    .dataframe tbody tr th:only-of-type {\n",
       "        vertical-align: middle;\n",
       "    }\n",
       "\n",
       "    .dataframe tbody tr th {\n",
       "        vertical-align: top;\n",
       "    }\n",
       "\n",
       "    .dataframe thead th {\n",
       "        text-align: right;\n",
       "    }\n",
       "</style>\n",
       "<table border=\"1\" class=\"dataframe\">\n",
       "  <thead>\n",
       "    <tr style=\"text-align: right;\">\n",
       "      <th></th>\n",
       "      <th>0</th>\n",
       "      <th>1</th>\n",
       "    </tr>\n",
       "  </thead>\n",
       "  <tbody>\n",
       "    <tr>\n",
       "      <th>0</th>\n",
       "      <td>-1.099496e+08</td>\n",
       "      <td>2235.871331</td>\n",
       "    </tr>\n",
       "    <tr>\n",
       "      <th>1</th>\n",
       "      <td>-1.097226e+08</td>\n",
       "      <td>-612.486738</td>\n",
       "    </tr>\n",
       "    <tr>\n",
       "      <th>2</th>\n",
       "      <td>-1.030766e+08</td>\n",
       "      <td>-3853.132499</td>\n",
       "    </tr>\n",
       "    <tr>\n",
       "      <th>3</th>\n",
       "      <td>-1.030756e+08</td>\n",
       "      <td>-3853.063259</td>\n",
       "    </tr>\n",
       "    <tr>\n",
       "      <th>4</th>\n",
       "      <td>-1.027326e+08</td>\n",
       "      <td>2931.735355</td>\n",
       "    </tr>\n",
       "    <tr>\n",
       "      <th>5</th>\n",
       "      <td>-9.216063e+07</td>\n",
       "      <td>2517.473792</td>\n",
       "    </tr>\n",
       "    <tr>\n",
       "      <th>6</th>\n",
       "      <td>-8.714959e+07</td>\n",
       "      <td>3249.921285</td>\n",
       "    </tr>\n",
       "    <tr>\n",
       "      <th>7</th>\n",
       "      <td>-8.611963e+07</td>\n",
       "      <td>5019.159866</td>\n",
       "    </tr>\n",
       "    <tr>\n",
       "      <th>8</th>\n",
       "      <td>-7.556763e+07</td>\n",
       "      <td>-591.554466</td>\n",
       "    </tr>\n",
       "    <tr>\n",
       "      <th>9</th>\n",
       "      <td>-7.446163e+07</td>\n",
       "      <td>3208.935107</td>\n",
       "    </tr>\n",
       "    <tr>\n",
       "      <th>10</th>\n",
       "      <td>-6.283963e+07</td>\n",
       "      <td>2863.299933</td>\n",
       "    </tr>\n",
       "    <tr>\n",
       "      <th>11</th>\n",
       "      <td>-6.226263e+07</td>\n",
       "      <td>-107.849290</td>\n",
       "    </tr>\n",
       "    <tr>\n",
       "      <th>12</th>\n",
       "      <td>-1.622963e+07</td>\n",
       "      <td>10225.318946</td>\n",
       "    </tr>\n",
       "    <tr>\n",
       "      <th>13</th>\n",
       "      <td>1.182044e+08</td>\n",
       "      <td>12902.008653</td>\n",
       "    </tr>\n",
       "    <tr>\n",
       "      <th>14</th>\n",
       "      <td>3.138588e+08</td>\n",
       "      <td>32962.830376</td>\n",
       "    </tr>\n",
       "    <tr>\n",
       "      <th>15</th>\n",
       "      <td>-7.638663e+07</td>\n",
       "      <td>3736.893490</td>\n",
       "    </tr>\n",
       "    <tr>\n",
       "      <th>16</th>\n",
       "      <td>-7.303063e+07</td>\n",
       "      <td>4903.898340</td>\n",
       "    </tr>\n",
       "    <tr>\n",
       "      <th>17</th>\n",
       "      <td>-6.278663e+07</td>\n",
       "      <td>2866.964069</td>\n",
       "    </tr>\n",
       "    <tr>\n",
       "      <th>18</th>\n",
       "      <td>-1.648163e+07</td>\n",
       "      <td>5444.862463</td>\n",
       "    </tr>\n",
       "    <tr>\n",
       "      <th>19</th>\n",
       "      <td>-9.211437e+07</td>\n",
       "      <td>6784.947538</td>\n",
       "    </tr>\n",
       "    <tr>\n",
       "      <th>20</th>\n",
       "      <td>-1.117246e+08</td>\n",
       "      <td>3530.203424</td>\n",
       "    </tr>\n",
       "    <tr>\n",
       "      <th>21</th>\n",
       "      <td>-8.612963e+07</td>\n",
       "      <td>4997.468926</td>\n",
       "    </tr>\n",
       "    <tr>\n",
       "      <th>22</th>\n",
       "      <td>-7.730773e+07</td>\n",
       "      <td>1368.160851</td>\n",
       "    </tr>\n",
       "    <tr>\n",
       "      <th>23</th>\n",
       "      <td>-7.691763e+07</td>\n",
       "      <td>5073.221044</td>\n",
       "    </tr>\n",
       "    <tr>\n",
       "      <th>24</th>\n",
       "      <td>-7.685763e+07</td>\n",
       "      <td>5317.384991</td>\n",
       "    </tr>\n",
       "    <tr>\n",
       "      <th>25</th>\n",
       "      <td>-7.598963e+07</td>\n",
       "      <td>5451.383970</td>\n",
       "    </tr>\n",
       "    <tr>\n",
       "      <th>26</th>\n",
       "      <td>-7.597063e+07</td>\n",
       "      <td>3965.642434</td>\n",
       "    </tr>\n",
       "    <tr>\n",
       "      <th>27</th>\n",
       "      <td>-6.635705e+07</td>\n",
       "      <td>-2930.827500</td>\n",
       "    </tr>\n",
       "    <tr>\n",
       "      <th>28</th>\n",
       "      <td>-1.111846e+08</td>\n",
       "      <td>2582.513098</td>\n",
       "    </tr>\n",
       "    <tr>\n",
       "      <th>29</th>\n",
       "      <td>-6.243763e+07</td>\n",
       "      <td>107.068184</td>\n",
       "    </tr>\n",
       "    <tr>\n",
       "      <th>...</th>\n",
       "      <td>...</td>\n",
       "      <td>...</td>\n",
       "    </tr>\n",
       "    <tr>\n",
       "      <th>105</th>\n",
       "      <td>3.138540e+08</td>\n",
       "      <td>-22300.743616</td>\n",
       "    </tr>\n",
       "    <tr>\n",
       "      <th>106</th>\n",
       "      <td>3.138571e+08</td>\n",
       "      <td>16522.558115</td>\n",
       "    </tr>\n",
       "    <tr>\n",
       "      <th>107</th>\n",
       "      <td>3.138590e+08</td>\n",
       "      <td>5180.663741</td>\n",
       "    </tr>\n",
       "    <tr>\n",
       "      <th>108</th>\n",
       "      <td>-1.118396e+08</td>\n",
       "      <td>3905.252765</td>\n",
       "    </tr>\n",
       "    <tr>\n",
       "      <th>109</th>\n",
       "      <td>-1.097986e+08</td>\n",
       "      <td>2423.306550</td>\n",
       "    </tr>\n",
       "    <tr>\n",
       "      <th>110</th>\n",
       "      <td>-9.213318e+07</td>\n",
       "      <td>6687.609989</td>\n",
       "    </tr>\n",
       "    <tr>\n",
       "      <th>111</th>\n",
       "      <td>-7.641963e+07</td>\n",
       "      <td>5991.682258</td>\n",
       "    </tr>\n",
       "    <tr>\n",
       "      <th>112</th>\n",
       "      <td>-1.810863e+07</td>\n",
       "      <td>9229.429327</td>\n",
       "    </tr>\n",
       "    <tr>\n",
       "      <th>113</th>\n",
       "      <td>5.290837e+07</td>\n",
       "      <td>15602.543918</td>\n",
       "    </tr>\n",
       "    <tr>\n",
       "      <th>114</th>\n",
       "      <td>5.299737e+07</td>\n",
       "      <td>15328.661540</td>\n",
       "    </tr>\n",
       "    <tr>\n",
       "      <th>115</th>\n",
       "      <td>-1.129736e+08</td>\n",
       "      <td>-1429.192603</td>\n",
       "    </tr>\n",
       "    <tr>\n",
       "      <th>116</th>\n",
       "      <td>2.408795e+08</td>\n",
       "      <td>23210.026858</td>\n",
       "    </tr>\n",
       "    <tr>\n",
       "      <th>117</th>\n",
       "      <td>-1.096066e+08</td>\n",
       "      <td>1229.542566</td>\n",
       "    </tr>\n",
       "    <tr>\n",
       "      <th>118</th>\n",
       "      <td>-7.702163e+07</td>\n",
       "      <td>5532.063337</td>\n",
       "    </tr>\n",
       "    <tr>\n",
       "      <th>119</th>\n",
       "      <td>-7.565963e+07</td>\n",
       "      <td>5613.212217</td>\n",
       "    </tr>\n",
       "    <tr>\n",
       "      <th>120</th>\n",
       "      <td>-1.814833e+07</td>\n",
       "      <td>9581.697152</td>\n",
       "    </tr>\n",
       "    <tr>\n",
       "      <th>121</th>\n",
       "      <td>-1.732563e+07</td>\n",
       "      <td>9985.578528</td>\n",
       "    </tr>\n",
       "    <tr>\n",
       "      <th>122</th>\n",
       "      <td>-1.688463e+07</td>\n",
       "      <td>7242.978047</td>\n",
       "    </tr>\n",
       "    <tr>\n",
       "      <th>123</th>\n",
       "      <td>-7.550863e+07</td>\n",
       "      <td>-20566.756522</td>\n",
       "    </tr>\n",
       "    <tr>\n",
       "      <th>124</th>\n",
       "      <td>2.159316e+08</td>\n",
       "      <td>10818.366171</td>\n",
       "    </tr>\n",
       "    <tr>\n",
       "      <th>125</th>\n",
       "      <td>3.138566e+08</td>\n",
       "      <td>17579.495440</td>\n",
       "    </tr>\n",
       "    <tr>\n",
       "      <th>126</th>\n",
       "      <td>3.139337e+08</td>\n",
       "      <td>24367.845995</td>\n",
       "    </tr>\n",
       "    <tr>\n",
       "      <th>127</th>\n",
       "      <td>-6.635256e+07</td>\n",
       "      <td>-6668.615512</td>\n",
       "    </tr>\n",
       "    <tr>\n",
       "      <th>128</th>\n",
       "      <td>-6.635254e+07</td>\n",
       "      <td>-3848.602141</td>\n",
       "    </tr>\n",
       "    <tr>\n",
       "      <th>129</th>\n",
       "      <td>-1.618063e+07</td>\n",
       "      <td>583.548820</td>\n",
       "    </tr>\n",
       "    <tr>\n",
       "      <th>130</th>\n",
       "      <td>-4.878381e+07</td>\n",
       "      <td>4900.867927</td>\n",
       "    </tr>\n",
       "    <tr>\n",
       "      <th>131</th>\n",
       "      <td>-4.877356e+07</td>\n",
       "      <td>4901.576357</td>\n",
       "    </tr>\n",
       "    <tr>\n",
       "      <th>132</th>\n",
       "      <td>-4.877048e+07</td>\n",
       "      <td>4805.787078</td>\n",
       "    </tr>\n",
       "    <tr>\n",
       "      <th>133</th>\n",
       "      <td>3.139341e+08</td>\n",
       "      <td>11712.837280</td>\n",
       "    </tr>\n",
       "    <tr>\n",
       "      <th>134</th>\n",
       "      <td>3.494138e+07</td>\n",
       "      <td>-28049.698359</td>\n",
       "    </tr>\n",
       "  </tbody>\n",
       "</table>\n",
       "<p>135 rows × 2 columns</p>\n",
       "</div>"
      ],
      "text/plain": [
       "                0             1\n",
       "0   -1.099496e+08   2235.871331\n",
       "1   -1.097226e+08   -612.486738\n",
       "2   -1.030766e+08  -3853.132499\n",
       "3   -1.030756e+08  -3853.063259\n",
       "4   -1.027326e+08   2931.735355\n",
       "5   -9.216063e+07   2517.473792\n",
       "6   -8.714959e+07   3249.921285\n",
       "7   -8.611963e+07   5019.159866\n",
       "8   -7.556763e+07   -591.554466\n",
       "9   -7.446163e+07   3208.935107\n",
       "10  -6.283963e+07   2863.299933\n",
       "11  -6.226263e+07   -107.849290\n",
       "12  -1.622963e+07  10225.318946\n",
       "13   1.182044e+08  12902.008653\n",
       "14   3.138588e+08  32962.830376\n",
       "15  -7.638663e+07   3736.893490\n",
       "16  -7.303063e+07   4903.898340\n",
       "17  -6.278663e+07   2866.964069\n",
       "18  -1.648163e+07   5444.862463\n",
       "19  -9.211437e+07   6784.947538\n",
       "20  -1.117246e+08   3530.203424\n",
       "21  -8.612963e+07   4997.468926\n",
       "22  -7.730773e+07   1368.160851\n",
       "23  -7.691763e+07   5073.221044\n",
       "24  -7.685763e+07   5317.384991\n",
       "25  -7.598963e+07   5451.383970\n",
       "26  -7.597063e+07   3965.642434\n",
       "27  -6.635705e+07  -2930.827500\n",
       "28  -1.111846e+08   2582.513098\n",
       "29  -6.243763e+07    107.068184\n",
       "..            ...           ...\n",
       "105  3.138540e+08 -22300.743616\n",
       "106  3.138571e+08  16522.558115\n",
       "107  3.138590e+08   5180.663741\n",
       "108 -1.118396e+08   3905.252765\n",
       "109 -1.097986e+08   2423.306550\n",
       "110 -9.213318e+07   6687.609989\n",
       "111 -7.641963e+07   5991.682258\n",
       "112 -1.810863e+07   9229.429327\n",
       "113  5.290837e+07  15602.543918\n",
       "114  5.299737e+07  15328.661540\n",
       "115 -1.129736e+08  -1429.192603\n",
       "116  2.408795e+08  23210.026858\n",
       "117 -1.096066e+08   1229.542566\n",
       "118 -7.702163e+07   5532.063337\n",
       "119 -7.565963e+07   5613.212217\n",
       "120 -1.814833e+07   9581.697152\n",
       "121 -1.732563e+07   9985.578528\n",
       "122 -1.688463e+07   7242.978047\n",
       "123 -7.550863e+07 -20566.756522\n",
       "124  2.159316e+08  10818.366171\n",
       "125  3.138566e+08  17579.495440\n",
       "126  3.139337e+08  24367.845995\n",
       "127 -6.635256e+07  -6668.615512\n",
       "128 -6.635254e+07  -3848.602141\n",
       "129 -1.618063e+07    583.548820\n",
       "130 -4.878381e+07   4900.867927\n",
       "131 -4.877356e+07   4901.576357\n",
       "132 -4.877048e+07   4805.787078\n",
       "133  3.139341e+08  11712.837280\n",
       "134  3.494138e+07 -28049.698359\n",
       "\n",
       "[135 rows x 2 columns]"
      ]
     },
     "execution_count": 48,
     "metadata": {},
     "output_type": "execute_result"
    }
   ],
   "source": [
    "Z_mapped"
   ]
  },
  {
   "cell_type": "code",
   "execution_count": 49,
   "metadata": {},
   "outputs": [
    {
     "data": {
      "text/plain": [
       "<matplotlib.collections.PathCollection at 0x23f73233898>"
      ]
     },
     "execution_count": 49,
     "metadata": {},
     "output_type": "execute_result"
    },
    {
     "data": {
      "image/png": "[encoded data removed]",
      "text/plain": [
       "<Figure size 432x288 with 1 Axes>"
      ]
     },
     "metadata": {
      "needs_background": "light"
     },
     "output_type": "display_data"
    }
   ],
   "source": [
    "plt.scatter(Z_mapped[0], Z_mapped[1])"
   ]
  }
 ],
 "metadata": {
  "kernelspec": {
   "display_name": "Python 3",
   "language": "python",
   "name": "python3"
  },
  "language_info": {
   "codemirror_mode": {
    "name": "ipython",
    "version": 3
   },
   "file_extension": ".py",
   "mimetype": "text/x-python",
   "name": "python",
   "nbconvert_exporter": "python",
   "pygments_lexer": "ipython3",
   "version": "3.7.3"
  }
 },
 "nbformat": 4,
 "nbformat_minor": 2
}

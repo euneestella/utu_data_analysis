{
 "cells": [
  {
   "cell_type": "markdown",
   "metadata": {},
   "source": [
    "## 과대적합과 과소적합(overfitting and underfitting)\n",
    "University of Turku의 Data Analysis and Knowledge Discovery 강의 내용을 정리한 노트이며, 개인적인 의견과 자료조사를 더했습니다."
   ]
  },
  {
   "cell_type": "markdown",
   "metadata": {},
   "source": [
    "지도학습(supervised learning)에서 생길 수 있는 대표적인 문제로 과대적합(overfitting)과 과소적합(underfitting)이 있다. 따라서 지도학습의 마지막 단계로 이 모델이 과대적합/과소적합 문제가 있는지 확인하는(validation) 과정이 필요하다."
   ]
  },
  {
   "cell_type": "markdown",
   "metadata": {},
   "source": [
    "## 과대적합(overfitting)"
   ]
  },
  {
   "cell_type": "markdown",
   "metadata": {},
   "source": [
    "부끄럽지만 [첫 데이터 분석 프로젝트](https://github.com/euneestella/khu_sda_project/blob/master/data_analysis.ipynb)에서 저지른 큰 실수다. 머신러닝 프로젝트가 아니라 학습 데이터 - 테스트 데이터를 나누지는 않았지만 설명력(R-square)을 어떻게든 높여보겠다고 이 변수 저 변수들을 다 끌어모아 다 회귀식에 넣어버린 케이스이다.    \n",
    "\n",
    "덕분에 주어진 데이터에 한해서 설명력은 높아졌지만, 데이터가 전체 경향성을 설명하지 못하는 문제가 발생했다."
   ]
  },
  {
   "cell_type": "markdown",
   "metadata": {},
   "source": [
    "### 머신러닝에서의 과대적합"
   ]
  },
  {
   "cell_type": "markdown",
   "metadata": {},
   "source": [
    "머신러닝에서 과대적합은 모델이 학습 데이터만 잘 설명할 뿐, 전체 데이터에 대해 <u>일반화하지 못하는 문제</u>이다. "
   ]
  },
  {
   "cell_type": "markdown",
   "metadata": {},
   "source": [
    "![overfitting](img/overfitting.png)"
   ]
  },
  {
   "cell_type": "markdown",
   "metadata": {},
   "source": [
    "위 사진에서 빨간색으로 그려진 9차 다항식 회귀모델의 경우 학습 데이터에 대한 설명력은 100%이지만, 전체 데이터에 대한 설명력은 매우 약할 것이다."
   ]
  },
  {
   "cell_type": "markdown",
   "metadata": {},
   "source": [
    "## 과소적합(overfitting)\n",
    "과대적합과 반대로 모델의 설명력이 부족한 경우이다. 예컨대 선형 모델을 비선형 문제에 적용했을 때 문제가 발생하기 쉽다."
   ]
  },
  {
   "cell_type": "markdown",
   "metadata": {},
   "source": [
    "![underfitting](img/underfitting.png)"
   ]
  },
  {
   "cell_type": "markdown",
   "metadata": {},
   "source": [
    "빨간색 선형회귀모델은 매우 간단하지만, 데이터에 대한 설명력이 부족하다."
   ]
  }
 ],
 "metadata": {
  "kernelspec": {
   "display_name": "Python 3",
   "language": "python",
   "name": "python3"
  },
  "language_info": {
   "codemirror_mode": {
    "name": "ipython",
    "version": 3
   },
   "file_extension": ".py",
   "mimetype": "text/x-python",
   "name": "python",
   "nbconvert_exporter": "python",
   "pygments_lexer": "ipython3",
   "version": "3.7.3"
  }
 },
 "nbformat": 4,
 "nbformat_minor": 2
}

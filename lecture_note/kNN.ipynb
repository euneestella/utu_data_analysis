{
 "cells": [
  {
   "cell_type": "markdown",
   "metadata": {},
   "source": [
    "## k-최근접 이웃(K-nearest neighbor learning)\n",
    "University of Turku의 Data Analysis and Knowledge Discovery 강의 내용을 정리한 노트이며, 개인적인 의견과 자료조사를 더했습니다."
   ]
  },
  {
   "cell_type": "markdown",
   "metadata": {},
   "source": [
    "## kNN의 기본 아이디어"
   ]
  },
  {
   "cell_type": "markdown",
   "metadata": {},
   "source": [
    "### 거리\n",
    "k-최근접 이웃(이하 kNN)은 지도학습(supervised learning)의 가장 기초적인 알고리즘이다. 분류(classification)와 회귀(regression)문제 모두에 적용할 수 있으며, 알고리즘의 기본적인 작동 원리는 <u>거리</u>이다. 보통은 유클리드 거리를 사용하며, 경우에 따라 다른 거리 측정 방식을 사용할 수 있다.\n",
    "![knn](img/knn-1.png)\n",
    "\n",
    "\n",
    "### 벡터와 거리\n",
    "기본적으로, 비슷한 사례는 비슷한 범주(class, classification) 혹은 값(real-valued, regression)을 가질 것이다. 이를 거리의 개념으로 옮겨 오면, <u>특징 벡터(feature vector) 사이의 거리가 가까울수록 이에 해당하는 사례도 더 가까울 것</u>이라고 예측 가능하다."
   ]
  },
  {
   "cell_type": "markdown",
   "metadata": {},
   "source": [
    "## kNN 알고리즘"
   ]
  },
  {
   "cell_type": "markdown",
   "metadata": {},
   "source": [
    "![knn 알고리즘](img/knn-algorithm.png)\n",
    "*파이썬으로 표현한 알고리즘은 추가 예정*"
   ]
  },
  {
   "cell_type": "markdown",
   "metadata": {},
   "source": [
    "## 적절한 수의 $k$ 고르기"
   ]
  },
  {
   "cell_type": "markdown",
   "metadata": {},
   "source": [
    "![ideal k](img/knn-2.png)"
   ]
  },
  {
   "cell_type": "markdown",
   "metadata": {},
   "source": [
    "위 그림은 이웃의 수 $k=15$의 경우로 잘 분류된 사례이다. 하지만 $k$값을 잘못 선택하면 과대적합/과소적합의 문제가 발생할 수 있다."
   ]
  },
  {
   "cell_type": "markdown",
   "metadata": {},
   "source": [
    "### 과대적합\n",
    "![knn-overfitting](img/knn-3.png)"
   ]
  },
  {
   "cell_type": "markdown",
   "metadata": {},
   "source": [
    "이웃의 수 $k=1$인 경우로 분류가 잘 되었지만 노이즈까지 모델링한 복잡한 경우이다. 일반화하기 어려우므로 모델의 가치가 떨어진다."
   ]
  },
  {
   "cell_type": "markdown",
   "metadata": {},
   "source": [
    "### 과소적합\n",
    "![knn-underfitting](img/knn-4.png)"
   ]
  },
  {
   "cell_type": "markdown",
   "metadata": {},
   "source": [
    "이웃의 수 $k=100$인 경우로 지나치게 일반화되었다. 따라서 이 경우에도 모델의 가치가 떨어진다."
   ]
  },
  {
   "cell_type": "markdown",
   "metadata": {},
   "source": [
    "## kNN의 장점\n",
    "1. 단순하다.\n",
    "2. 비선형 모델이다.\n",
    "3. $k$만을 수정해 모델 복잡도를 수정할 수 있다.\n",
    "4. 거리 측정 방식, 이웃에 대한 가중치를 수정해 커스텀할 수 있다.\n",
    "\n",
    "## kNN의 단점\n",
    "1. 계산 복잡도와 메모리 복잡도가 크다.\n",
    "2. 데이터들의 단위에 민감하다.\n",
    "3. 모든 특징들이 거리 측정에 사용된다.\n",
    "\n",
    "### 해결법\n",
    "1. 저차원 데이터를 사용하거나 데이터 구조를 단순하게 변형한다.\n",
    "2. 모델 적용에 앞서 정규화를 수행한다.\n",
    "2. 특징 선택(feature selection)이나 차원 축소 기법을 사용한다."
   ]
  }
 ],
 "metadata": {
  "kernelspec": {
   "display_name": "Python 3",
   "language": "python",
   "name": "python3"
  },
  "language_info": {
   "codemirror_mode": {
    "name": "ipython",
    "version": 3
   },
   "file_extension": ".py",
   "mimetype": "text/x-python",
   "name": "python",
   "nbconvert_exporter": "python",
   "pygments_lexer": "ipython3",
   "version": "3.7.3"
  }
 },
 "nbformat": 4,
 "nbformat_minor": 2
}

{
 "cells": [
  {
   "cell_type": "markdown",
   "metadata": {},
   "source": [
    "## 히스토그램"
   ]
  },
  {
   "cell_type": "markdown",
   "metadata": {},
   "source": [
    "University of Turku의 Data Analysis and Knowledge Discovery 강의 내용을 개인적으로 정리한 글입니다."
   ]
  },
  {
   "cell_type": "markdown",
   "metadata": {},
   "source": [
    "히스토그램은 연속형 자료형에서 사용하는 자료 요약 방식으로, 도수분포표를 바탕으로 작성한다. 각 계급(bin)에서 도수의 크기가 막대의 높이로 그려진다."
   ]
  },
  {
   "cell_type": "markdown",
   "metadata": {},
   "source": [
    "## 히스토그램 vs 막대그래프"
   ]
  },
  {
   "cell_type": "markdown",
   "metadata": {},
   "source": [
    "히스토그램은 막대그래프처럼 막대의 길이로 자료를 요약하는 방식이다. 하지만 히스토그램은 막대그래프와 달리 <u>막대가 서로 붙어 있으며</u>, <u>계급 자체</u>를 고려해야 한다는 점에서 다르다."
   ]
  },
  {
   "cell_type": "markdown",
   "metadata": {},
   "source": [
    "## 히스토그램과 계급의 개수"
   ]
  },
  {
   "cell_type": "markdown",
   "metadata": {},
   "source": [
    "히스토그램에서 중요한 문제들 중 하나가 바로 <u>계급의 수</u>다. 계급의 수를 어떻게 설정하느냐에 따라서 같은 자료도 정말 다르게 요약할 수 있는데, 예를 들어 이봉형 분포(binomial distribution)에서 표본을 랜덤하게 뽑은 경우에도 계급의 수에 따라 자료를 표현하는 정도가 다르다."
   ]
  },
  {
   "cell_type": "markdown",
   "metadata": {},
   "source": [
    "![historgram](img/histogram.PNG)"
   ]
  },
  {
   "cell_type": "markdown",
   "metadata": {},
   "source": [
    "각각 계급의 수를 5, 17, 200으로 나눈 경우인데 계급의 수가 많을수록 모집단의 분포와 유사해진다. 그런데 계급의 수를 무작정 늘릴 수도 없는 것이, 자료를 '요약한다는' 본질에서 벗어나기 때문이다. 그래서 <u>적당한</u> 수의 계급을 선택하는 것이 중요하다.     \n",
    "\n",
    "그런데 '적당히' 라는 것이 상당히 애매해서 보통 자료에 따라 유동적으로 5~15개 정도로 나누는 것이 일반적이다. "
   ]
  },
  {
   "cell_type": "markdown",
   "metadata": {},
   "source": [
    "## '적당한' 계급의 수 정하기 (1) - Sturges' rule"
   ]
  },
  {
   "cell_type": "markdown",
   "metadata": {},
   "source": [
    "히스토그램에서 적당한 계급의 수에 대한 일종의 가이드라인을 만들 수 없을까? Sturges' rule에서는 표본의 수가 n일 때 적당한 계급의 수 k를 다음과 같이 정한다.   \n",
    "\n",
    "단, 자료가 정규분포를 따르고 표본의 수 n이 30보다 큰 경우에 사용하는 것을 추천한다."
   ]
  },
  {
   "cell_type": "markdown",
   "metadata": {},
   "source": [
    "$$k\\quad =\\quad { log }_{ 2 }(n)+1$$"
   ]
  },
  {
   "cell_type": "markdown",
   "metadata": {},
   "source": [
    "혹은 <u>계급의 크기를 먼저</u> 정한 다음, 이에 맞춰서 계급의 수를 정할 수도 있겠다. Sturges' rule에서 권장하는 계급의 크기 h는 표본표준편차 s에 따라 다음과 같이 정한다."
   ]
  },
  {
   "cell_type": "markdown",
   "metadata": {},
   "source": [
    "$$h\\quad =\\quad \\frac { 3.5s }{ { n }^{ 1/3 } } $$"
   ]
  },
  {
   "cell_type": "markdown",
   "metadata": {},
   "source": [
    "## '적당한' 계급의 수 정하기 (2) - Square-root choice"
   ]
  },
  {
   "cell_type": "markdown",
   "metadata": {},
   "source": [
    "엑셀 프로그램에서 히스토그램을 그릴 때 계급의 수는 다음과 같이 계산된다."
   ]
  },
  {
   "cell_type": "markdown",
   "metadata": {},
   "source": [
    "$$k\\quad =\\quad \\sqrt { n }$$"
   ]
  },
  {
   "cell_type": "markdown",
   "metadata": {},
   "source": [
    "## '적당한' 계급의 수 정하기 (3) - Freedman-Diaconis' choice"
   ]
  },
  {
   "cell_type": "markdown",
   "metadata": {},
   "source": [
    "'적당한' 계급의 크기를 정해 계급의 수를 정하는 방법으로 IQR(interquartile range)를 이용한다."
   ]
  },
  {
   "cell_type": "markdown",
   "metadata": {},
   "source": [
    "$$h\\quad =\\quad 2\\frac { IQR(x) }{ { n }^{ 1/3 } } $$"
   ]
  },
  {
   "cell_type": "markdown",
   "metadata": {},
   "source": [
    "## 계급의 수를 잘 고르는 법?"
   ]
  },
  {
   "cell_type": "markdown",
   "metadata": {},
   "source": [
    "사실, 계급의 수를 고르는 최적의 방법은 <b>없다</b>. 앞에서 소개한 두 방법을 통해 최적의 계급 수를 고를 '수도' 있지만 <u>자료가 정규분포를 따를 때</u>라는 조건이 달려 있다. 세상의 모든 자료가 정규분포를 따른다면 좋겠지만 현실은 음 오 아 예(...)"
   ]
  }
 ],
 "metadata": {
  "kernelspec": {
   "display_name": "Python 3",
   "language": "python",
   "name": "python3"
  },
  "language_info": {
   "codemirror_mode": {
    "name": "ipython",
    "version": 3
   },
   "file_extension": ".py",
   "mimetype": "text/x-python",
   "name": "python",
   "nbconvert_exporter": "python",
   "pygments_lexer": "ipython3",
   "version": "3.7.3"
  }
 },
 "nbformat": 4,
 "nbformat_minor": 2
}

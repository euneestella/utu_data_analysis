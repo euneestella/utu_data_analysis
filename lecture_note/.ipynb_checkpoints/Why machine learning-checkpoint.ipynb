{
 "cells": [
  {
   "cell_type": "markdown",
   "metadata": {},
   "source": [
    "## 머신 러닝이란 무엇인가?"
   ]
  },
  {
   "cell_type": "markdown",
   "metadata": {},
   "source": [
    "University of Turku의 Data Analysis and Knowledge Discovery 강의 내용을 정리한 노트이며, 개인적인 의견과 자료조사를 더했습니다."
   ]
  },
  {
   "cell_type": "markdown",
   "metadata": {},
   "source": [
    "머신 러닝(machine learning)은 인공지능의 한 갈래로, '데이터로부터 얻을 수 있는 <u>알고리즘</u>'을 지향한다. 머신러닝의 핵심 키워드를 요약하자면\n",
    "\n",
    "1. 패턴이 존재한다\n",
    "2. 그러나, 그 패턴을 수학적으로 명증할 없다(we can not pin it down mathematically)\n",
    "3. 그들에 관한 데이터가 존재한다.\n",
    "\n",
    "머신 러닝과 밀접하게 관련된 분야는 <b>계산 통계학, 데이터 마이닝, 패턴 인지, 통계적 학습 이론</b>이다. "
   ]
  },
  {
   "cell_type": "markdown",
   "metadata": {},
   "source": [
    "## 머신 러닝은 왜 필요한가?"
   ]
  },
  {
   "cell_type": "markdown",
   "metadata": {},
   "source": [
    "기존의 통계 분석은 전문가에 의존한(expert system) 방식이었다. 예컨대 물리학자가 물리학에 관한 데이터를 보고 적절한 모형을 제시하는 식이다.\n",
    "\n",
    "그런데, 어찌 되었든 사람이 하는 작업이다 보니 한계점이 존재한다.\n",
    "\n",
    "1. 노동력이 많이 필요하다.\n",
    "2. 전문가의 '직관'에 의존하기 때문에 잘못된 분석을 할 수 있다.\n",
    "\n",
    "그러나 머신 러닝의 경우 컴퓨터에 기반한 것이기 때문에 두 가지 한계에서 자유로울 수 있다."
   ]
  }
 ],
 "metadata": {
  "kernelspec": {
   "display_name": "Python 3",
   "language": "python",
   "name": "python3"
  },
  "language_info": {
   "codemirror_mode": {
    "name": "ipython",
    "version": 3
   },
   "file_extension": ".py",
   "mimetype": "text/x-python",
   "name": "python",
   "nbconvert_exporter": "python",
   "pygments_lexer": "ipython3",
   "version": "3.7.3"
  }
 },
 "nbformat": 4,
 "nbformat_minor": 2
}

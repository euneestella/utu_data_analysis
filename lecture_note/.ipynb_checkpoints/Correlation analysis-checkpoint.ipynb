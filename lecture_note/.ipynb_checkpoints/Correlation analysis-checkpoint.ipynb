{
 "cells": [
  {
   "cell_type": "markdown",
   "metadata": {},
   "source": [
    "## 상관분석(correlation analysis)"
   ]
  },
  {
   "cell_type": "markdown",
   "metadata": {},
   "source": [
    "University of Turku의 Data Analysis and Knowledge Discovery 강의 내용을 개인적으로 정리한 글입니다."
   ]
  },
  {
   "cell_type": "markdown",
   "metadata": {},
   "source": [
    "상관분석은 회귀분석과 함께 두 연속형 변수 사이의 상관관계를 파악하는 통계 기법이다. 다만 회귀분석은 상관관계를 <u>함수 관계</u>로 나타낼 수 있다는 점이 특징이다."
   ]
  },
  {
   "cell_type": "markdown",
   "metadata": {},
   "source": [
    "## 공분산(covariance)"
   ]
  },
  {
   "cell_type": "markdown",
   "metadata": {},
   "source": [
    "$$\\frac { \\sum { (X-\\overline { X } )(Y-\\overline { Y } ) }  }{ n-1 } ={ s }_{ xy }$$"
   ]
  },
  {
   "cell_type": "markdown",
   "metadata": {},
   "source": [
    "공분산은 2개 변수의 상관정도를 나타내는 값이다. 분산은 양의 값이 나오지만, 공분산은 양수와 음수 모두 나올 수 있다. 공분산의 부호에 따라 다음과 같이 해석할 수 있다.\n",
    "- 양의 공분산    \n",
    "한 변수가 증가하면, 다른 변수가 (선형적으로) 증가하는 경향이 있다.\n",
    "    \n",
    "    \n",
    "- 음의 공분산    \n",
    "한 변수가 증가하면, 다른 변수가 (선형적으로) 감소하는 경향이 있다."
   ]
  },
  {
   "cell_type": "markdown",
   "metadata": {},
   "source": [
    "그러나 공분산을 이용한 상관분석에는 한계가 있다. 변수의 측정 단위에 매우 예민하다는 점인데, 예컨대 1km와 1000m는 결국 같은 값이지만 단위를 통일하지 않고 공분산을 해석하면 엉뚱한 결과를 얻을 수 있다. 그래서 <u>정규화</u> 과정이 필요하며, 이로 얻어진 계수를 상관계수라 한다."
   ]
  },
  {
   "cell_type": "markdown",
   "metadata": {},
   "source": [
    "## 피어슨 상관계수(Pearson's correlation coefficient)"
   ]
  },
  {
   "cell_type": "markdown",
   "metadata": {},
   "source": [
    "$$ r\\quad =\\quad \\frac { \\frac { \\sum { (X-\\overline { X } )(Y-\\overline { Y } ) }  }{ n-1 }  }{ \\sqrt { \\frac { \\sum { { (X-\\overline { X } ) }^{ 2 } }  }{ n-1 }  } \\sqrt { \\frac { \\sum { { (Y-\\overline { Y } ) }^{ 2 } }  }{ n-1 }  }  } =\\frac { \\sum { (X-\\overline { X } )(Y-\\overline { Y } ) }  }{ \\sqrt { \\sum { { (X-\\overline { X } ) }^{ 2 } }  } \\sqrt { \\sum { { (Y-\\overline { Y } ) }^{ 2 } }  }  } =\\frac { { s }_{ xy } }{ { s }_{ x }{ s }_{ y } }  $$"
   ]
  },
  {
   "cell_type": "markdown",
   "metadata": {},
   "source": [
    "피어슨 상관계수는 공분산을 각 변수의 표준편차로 나눈 것으로, 두 변수 사이 <u>선형 관계의 강도</u>를 측정한다."
   ]
  },
  {
   "cell_type": "markdown",
   "metadata": {},
   "source": [
    "- $$ -1\\le r\\le 1 $$     \n",
    "     \n",
    "     \n",
    "- r > 0 이면 양의 선형 관계, r <0 이면 음의 선형 관계이며,    \n",
    "    \n",
    "    \n",
    "- r의 절대값은 선형 관계의 강도를 표현한다. \n",
    "     \n",
    "     \n",
    "- r의 절대값이 1이면 모든 관측값들이 하나의 선 위에 놓인다."
   ]
  },
  {
   "cell_type": "markdown",
   "metadata": {},
   "source": [
    "피어슨 상관계수는 간편하지만 한계가 존재한다. <u>선형 관계</u>만 측정하기 때문에 비선형 관계, 혹은 단조적이지 않은 관계를 볼 수 없다는 한계가 있다."
   ]
  },
  {
   "cell_type": "markdown",
   "metadata": {},
   "source": [
    "## 스피어만의 순위 상관계수(Spearman's rank correlation coefficient)"
   ]
  },
  {
   "cell_type": "markdown",
   "metadata": {},
   "source": [
    "$$ \\rho \\quad =\\quad 1\\quad -\\quad 6\\frac { \\sum { { (r({ x }_{ i })-r({ y }_{ i })) }^{ 2 } }  }{ n({ n }^{ 2 }-1) }  $$"
   ]
  },
  {
   "cell_type": "markdown",
   "metadata": {},
   "source": [
    "스피어만의 순위 상관계수는 변수들의 <u>순위</u>를 이용하여 계수를 계산한다. 따라서 연속형 변수뿐만 아니라 <u>순서형 변수도 분석에 사용할 수 있다</u>. 순위를 이용한다는 특징 때문에 outlier에 대해 덜 민감하다."
   ]
  },
  {
   "cell_type": "markdown",
   "metadata": {},
   "source": [
    "- x와 y의 값과 순위가 정확히 같은 순서라면 (예컨대 값 1,2,3,4는 순위 1,2,3,4이다.) 스피어만 상관계수의 값은 1이며,    \n",
    "     \n",
    "     \n",
    "- x와 y의 값과 순위가 정확히 반대 순서라면 스피어만 상관계수의 값은 -1이다."
   ]
  },
  {
   "cell_type": "markdown",
   "metadata": {},
   "source": [
    "## 켄달의 타우(Kendall's tau)"
   ]
  },
  {
   "cell_type": "markdown",
   "metadata": {},
   "source": [
    "켄달의 타우는 스피어만 순위 상관계수와 마찬가지로 변수들의 <u>값 그 자체</u>가 아니라 <u>순위</u>를 이용하여 계수를 계산한다.    \n",
    "    \n",
    "변수 X를 크기 순서로 정렬한 다음, 이에 대응하는 Y가 얼마나 X의 순위와 일치하는지 분석하는 방식이다. C가 일치하는 순서쌍의 수, D가 불일치하는 순서쌍의 수라고 할 때 상관계수는 다음과 같이 정의된다."
   ]
  },
  {
   "cell_type": "markdown",
   "metadata": {},
   "source": [
    "$$ { \\tau  }_{ a }\\quad =\\quad \\frac { C\\quad -\\quad D }{ \\frac { 1 }{ 2 } n(n-1) }  $$"
   ]
  }
 ],
 "metadata": {
  "kernelspec": {
   "display_name": "Python 3",
   "language": "python",
   "name": "python3"
  },
  "language_info": {
   "codemirror_mode": {
    "name": "ipython",
    "version": 3
   },
   "file_extension": ".py",
   "mimetype": "text/x-python",
   "name": "python",
   "nbconvert_exporter": "python",
   "pygments_lexer": "ipython3",
   "version": "3.7.3"
  }
 },
 "nbformat": 4,
 "nbformat_minor": 2
}

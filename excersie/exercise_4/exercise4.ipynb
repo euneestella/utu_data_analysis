{
 "cells": [
  {
   "cell_type": "markdown",
   "metadata": {},
   "source": [
    "### Fill in your name, student id number and email address\n",
    "#### name: Eunhee Kim\n",
    "#### id number: 612875\n",
    "#### email: eunee.stella@gmail.com / eunhee.e.kim@utu.fi"
   ]
  },
  {
   "cell_type": "markdown",
   "metadata": {},
   "source": [
    "## Data analysis and knowledge discovery - Exercise 4: Unsupervised learning"
   ]
  },
  {
   "cell_type": "markdown",
   "metadata": {},
   "source": [
    "This is the template for the fourth exercise. The idea of this exercise is to familiarize yourself with the basics of unsupervised learning by using the K-means clustering algorithm to find patterns - in this case clusters of ships with the same type - in the data. The same dataset will be used in this exercise as in the previous two exercises.\n",
    "\n",
    " - Remember to include comments in your code to explain how it works and what it is supposed to do.\n",
    "\n",
    " - For answering the optional bonus task correctly, you will be awarded one bonus point.\n",
    "\n",
    " - If you are having problems with this exercise, try google or stackoverflow first. Then, if the problem still persists, please contact ilksuu@utu.fi for help."
   ]
  },
  {
   "cell_type": "markdown",
   "metadata": {},
   "source": [
    "### Import all the libraries etc. you need"
   ]
  },
  {
   "cell_type": "code",
   "execution_count": 1,
   "metadata": {},
   "outputs": [],
   "source": [
    "import numpy as np\n",
    "import pandas as pd\n",
    "import matplotlib.pyplot as plt\n",
    "import seaborn as sns\n",
    "\n",
    "from sklearn.decomposition import PCA\n",
    "from sklearn import preprocessing\n",
    "from sklearn.cluster import KMeans\n",
    "from sklearn.metrics import silhouette_score"
   ]
  },
  {
   "cell_type": "markdown",
   "metadata": {},
   "source": [
    "### Read the data\n",
    "\n",
    "Read the file containing the ship data into a pandas dataframe."
   ]
  },
  {
   "cell_type": "code",
   "execution_count": 2,
   "metadata": {},
   "outputs": [],
   "source": [
    "shipdata = pd.read_excel('shipdata_2019.xlsx')"
   ]
  },
  {
   "cell_type": "markdown",
   "metadata": {},
   "source": [
    "### Part 1: Preprocess and visualize the data\n",
    "\n",
    " - You should know already that there exists an incorrect value in the 'Length (m)' column of the dataframe. Correct the value before any further preprocessing. You can find the correct value in marinetraffic.com by searching with the MMSI-number of the ship.\n",
    "\n",
    " - Use 'Speed (knots)', 'COG (degrees)' and 'Length (m)' as features for this exercise. You will also need the 'Ship type' -column later to be used as labels. Gather the features and labels in two arrays (e.g. X and Y).\n",
    " \n",
    " - Perform z-score standardization on the feature array to ensure that all features have equal weight.\n",
    " \n",
    " - Map the data to two dimensions by using principal component analysis and visualize the resulting two-dimensional data as a scatter plot. How many clusters of data points can you see in the scatter plot? Try to base your answer on the appearance of the scatter plot and not on your prior knowledge of the data."
   ]
  },
  {
   "cell_type": "markdown",
   "metadata": {},
   "source": [
    "#### Correct the value before any further preprocessing"
   ]
  },
  {
   "cell_type": "code",
   "execution_count": 3,
   "metadata": {},
   "outputs": [
    {
     "data": {
      "text/plain": [
       "count     135.000000\n",
       "mean      134.629852\n",
       "std        95.137091\n",
       "min        15.000000\n",
       "25%        88.960000\n",
       "50%       116.260000\n",
       "75%       160.530000\n",
       "max      1000.000000\n",
       "Name: Length, dtype: float64"
      ]
     },
     "execution_count": 3,
     "metadata": {},
     "output_type": "execute_result"
    }
   ],
   "source": [
    "shipdata['Length'].describe()"
   ]
  },
  {
   "cell_type": "code",
   "execution_count": 4,
   "metadata": {},
   "outputs": [
    {
     "data": {
      "text/plain": [
       "(array([64., 55., 15.,  0.,  0.,  0.,  0.,  0.,  0.,  1.]),\n",
       " array([  15. ,  113.5,  212. ,  310.5,  409. ,  507.5,  606. ,  704.5,\n",
       "         803. ,  901.5, 1000. ]),\n",
       " <a list of 10 Patch objects>)"
      ]
     },
     "execution_count": 4,
     "metadata": {},
     "output_type": "execute_result"
    },
    {
     "data": {
      "image/png": "[encoded data removed]",
      "text/plain": [
       "<Figure size 432x288 with 1 Axes>"
      ]
     },
     "metadata": {
      "needs_background": "light"
     },
     "output_type": "display_data"
    }
   ],
   "source": [
    "plt.hist(shipdata['Length'])"
   ]
  },
  {
   "cell_type": "markdown",
   "metadata": {},
   "source": [
    "The maximun ```Length``` is 1000(m)"
   ]
  },
  {
   "cell_type": "code",
   "execution_count": 5,
   "metadata": {},
   "outputs": [
    {
     "data": {
      "text/html": [
       "<div>\n",
       "<style scoped>\n",
       "    .dataframe tbody tr th:only-of-type {\n",
       "        vertical-align: middle;\n",
       "    }\n",
       "\n",
       "    .dataframe tbody tr th {\n",
       "        vertical-align: top;\n",
       "    }\n",
       "\n",
       "    .dataframe thead th {\n",
       "        text-align: right;\n",
       "    }\n",
       "</style>\n",
       "<table border=\"1\" class=\"dataframe\">\n",
       "  <thead>\n",
       "    <tr style=\"text-align: right;\">\n",
       "      <th></th>\n",
       "      <th>MMSI</th>\n",
       "      <th>Speed</th>\n",
       "      <th>COG</th>\n",
       "      <th>Destination</th>\n",
       "      <th>Ship_type</th>\n",
       "      <th>Gross_tonnage</th>\n",
       "      <th>Length</th>\n",
       "      <th>Breadth</th>\n",
       "    </tr>\n",
       "  </thead>\n",
       "  <tbody>\n",
       "    <tr>\n",
       "      <th>62</th>\n",
       "      <td>255714000</td>\n",
       "      <td>13.2697</td>\n",
       "      <td>60.3354</td>\n",
       "      <td>Porvoo</td>\n",
       "      <td>Tanker</td>\n",
       "      <td>3785</td>\n",
       "      <td>1000.0</td>\n",
       "      <td>17.0</td>\n",
       "    </tr>\n",
       "  </tbody>\n",
       "</table>\n",
       "</div>"
      ],
      "text/plain": [
       "         MMSI    Speed      COG Destination Ship_type  Gross_tonnage  Length  \\\n",
       "62  255714000  13.2697  60.3354      Porvoo    Tanker           3785  1000.0   \n",
       "\n",
       "    Breadth  \n",
       "62     17.0  "
      ]
     },
     "execution_count": 5,
     "metadata": {},
     "output_type": "execute_result"
    }
   ],
   "source": [
    "shipdata[shipdata['Length']==1000]"
   ]
  },
  {
   "cell_type": "markdown",
   "metadata": {},
   "source": [
    "It has different value when checked marinetraffic.com. Then let's change the value."
   ]
  },
  {
   "cell_type": "code",
   "execution_count": 6,
   "metadata": {},
   "outputs": [
    {
     "name": "stderr",
     "output_type": "stream",
     "text": [
      "C:\\Users\\eunee\\Anaconda3\\lib\\site-packages\\pandas\\core\\indexing.py:190: SettingWithCopyWarning: \n",
      "A value is trying to be set on a copy of a slice from a DataFrame\n",
      "\n",
      "See the caveats in the documentation: http://pandas.pydata.org/pandas-docs/stable/indexing.html#indexing-view-versus-copy\n",
      "  self._setitem_with_indexer(indexer, value)\n"
     ]
    }
   ],
   "source": [
    "shipdata['Length'].iloc[62] = 100"
   ]
  },
  {
   "cell_type": "markdown",
   "metadata": {},
   "source": [
    "#### Use 'Speed (knots)', 'COG (degrees)' and 'Length (m)' as features for this exercise"
   ]
  },
  {
   "cell_type": "code",
   "execution_count": 7,
   "metadata": {},
   "outputs": [],
   "source": [
    "X = shipdata[['Speed', 'COG', 'Length']]"
   ]
  },
  {
   "cell_type": "markdown",
   "metadata": {},
   "source": [
    "#### You will also need the 'Ship type' -column later to be used as labels. Gather the features and labels in two arrays (e.g. X and Y)."
   ]
  },
  {
   "cell_type": "code",
   "execution_count": 8,
   "metadata": {},
   "outputs": [],
   "source": [
    "Y = shipdata['Ship_type']"
   ]
  },
  {
   "cell_type": "markdown",
   "metadata": {},
   "source": [
    "#### Perform z-score standardization on the feature array to ensure that all features have equal weight."
   ]
  },
  {
   "cell_type": "code",
   "execution_count": 9,
   "metadata": {},
   "outputs": [],
   "source": [
    "scaler = preprocessing.StandardScaler().fit(X.iloc[:,0:])"
   ]
  },
  {
   "cell_type": "code",
   "execution_count": 10,
   "metadata": {},
   "outputs": [],
   "source": [
    "X_transformed = scaler.transform(X.iloc[:,0:])"
   ]
  },
  {
   "cell_type": "markdown",
   "metadata": {},
   "source": [
    "#### Map the data to two dimensions by using principal component analysis and visualize the resulting two-dimensional data as a scatter plot."
   ]
  },
  {
   "cell_type": "code",
   "execution_count": 11,
   "metadata": {},
   "outputs": [],
   "source": [
    "pca = PCA(n_components = 2).fit(X.iloc[:,0:])\n",
    "pca_norm = PCA(n_components = 2).fit(X_transformed)\n",
    "X_pca = pca.transform(X.iloc[:,0:])\n",
    "X_pca_norm = pca_norm.transform(X_transformed)"
   ]
  },
  {
   "cell_type": "code",
   "execution_count": 12,
   "metadata": {},
   "outputs": [
    {
     "data": {
      "text/plain": [
       "<matplotlib.axes._subplots.AxesSubplot at 0x18699653630>"
      ]
     },
     "execution_count": 12,
     "metadata": {},
     "output_type": "execute_result"
    },
    {
     "data": {
      "image/png": "[encoded data removed]",
      "text/plain": [
       "<Figure size 432x288 with 1 Axes>"
      ]
     },
     "metadata": {
      "needs_background": "light"
     },
     "output_type": "display_data"
    }
   ],
   "source": [
    "sns.scatterplot(X_pca[:,0], X_pca[:,1])"
   ]
  },
  {
   "cell_type": "markdown",
   "metadata": {},
   "source": [
    "#### How many clusters of data points can you see in the scatter plot?"
   ]
  },
  {
   "cell_type": "markdown",
   "metadata": {},
   "source": [
    "I can see three clusters. One on the left, one on the middle-top and one on the middle-bottom"
   ]
  },
  {
   "cell_type": "markdown",
   "metadata": {},
   "source": [
    "### Part 2: Perform clustering on the data and evaluate the results using silhouette score\n",
    "\n",
    " - Perform K-means clustering on the data using different values of K (for example ranging from 2 to 6). Use the original z-score standardized 3-dimensional data - **that is, not the pca-transformed two-dimensional data** - for the clustering. Compute the silhouette score for each clustering.\n",
    " - Is the number of clusters with the highest silhouette score the same that you chose based on the visual inspection of the scatter plot in part 1?"
   ]
  },
  {
   "cell_type": "markdown",
   "metadata": {},
   "source": [
    "#### Perform K-means clustering on the data using different values of K (for example ranging from 2 to 6). Use the original z-score standardized 3-dimensional data"
   ]
  },
  {
   "cell_type": "code",
   "execution_count": 13,
   "metadata": {},
   "outputs": [
    {
     "name": "stdout",
     "output_type": "stream",
     "text": [
      "Clustering labels when k is  2\n",
      "[0 1 1 1 1 1 0 0 0 1 0 1 0 1 0 1 1 0 1 0 0 0 1 1 1 0 1 1 0 1 1 0 1 1 0 1 0\n",
      " 0 1 0 0 0 1 1 0 0 0 0 0 0 0 0 0 0 1 1 0 1 1 1 0 1 1 1 1 1 1 1 1 1 1 1 1 1\n",
      " 0 1 1 1 1 0 0 0 0 0 0 0 0 0 0 0 0 0 1 1 1 1 1 1 1 1 0 1 1 1 1 1 1 1 0 1 0\n",
      " 0 0 0 0 1 1 0 0 0 0 0 0 1 0 1 0 1 1 1 1 0 1 1 1]\n",
      "\n",
      "Clustering labels when k is  3\n",
      "[1 0 1 0 1 0 1 1 1 1 1 1 1 1 1 0 1 2 1 1 1 1 1 1 1 1 1 0 1 0 1 1 0 0 1 0 1\n",
      " 2 1 1 1 1 0 1 1 2 2 1 2 2 1 1 1 2 0 0 1 0 0 1 1 0 0 0 1 0 0 0 1 1 0 1 0 0\n",
      " 1 0 0 1 0 1 1 1 1 1 2 2 2 1 1 1 1 1 0 0 0 0 0 0 0 0 1 0 0 0 0 0 0 0 1 1 1\n",
      " 1 1 1 1 0 0 1 1 1 1 1 1 0 1 0 1 0 0 0 1 1 1 0 0]\n",
      "\n",
      "Clustering labels when k is  4\n",
      "[1 3 1 3 3 3 1 1 1 1 1 1 1 1 1 3 3 2 3 1 1 1 3 3 3 1 3 3 1 3 3 1 3 0 1 3 1\n",
      " 2 1 1 1 1 0 1 1 2 2 1 2 2 0 1 1 2 3 0 1 3 3 3 1 3 3 3 3 3 0 0 3 3 3 3 0 0\n",
      " 1 0 0 3 3 1 1 1 1 1 2 2 2 1 1 3 1 1 3 0 0 0 0 0 0 0 1 0 3 0 0 0 3 0 1 3 1\n",
      " 1 1 1 1 3 3 1 1 1 1 1 1 0 1 0 1 3 3 3 1 1 1 0 0]\n",
      "\n",
      "Clustering labels when k is  5\n",
      "[0 3 0 0 0 0 4 0 0 0 4 0 0 0 4 3 0 1 0 4 4 0 0 0 0 0 0 3 0 3 0 4 3 2 4 0 0\n",
      " 1 0 0 4 4 2 0 4 1 1 4 1 1 2 4 4 4 0 0 4 3 3 0 4 0 3 3 0 3 2 2 0 0 0 0 2 2\n",
      " 4 2 2 0 3 4 4 4 4 4 1 1 1 4 4 0 4 4 3 2 2 3 2 2 2 2 0 2 3 2 2 2 3 2 4 0 4\n",
      " 4 0 4 4 3 3 0 0 4 0 0 4 2 4 0 4 3 3 0 0 0 0 2 2]\n",
      "\n",
      "Clustering labels when k is  6\n",
      "[5 0 5 5 5 5 1 1 4 5 4 5 1 5 1 0 5 2 5 1 1 1 5 5 5 1 5 0 5 5 5 1 0 3 1 5 4\n",
      " 2 4 1 1 4 3 4 1 2 2 4 2 2 4 4 4 2 5 5 1 5 0 5 4 5 0 0 5 5 3 3 5 5 5 5 3 3\n",
      " 4 3 3 5 3 4 1 4 1 1 2 2 2 1 1 5 1 4 0 3 3 3 3 3 3 3 1 3 0 3 3 3 0 3 1 5 1\n",
      " 1 5 1 1 5 0 5 1 1 1 1 4 3 4 5 4 0 0 5 5 4 5 3 3]\n",
      "\n"
     ]
    }
   ],
   "source": [
    "for i in range(5) :\n",
    "    kmeans = KMeans(n_clusters = i+2).fit(X_transformed)\n",
    "    print('Clustering labels when k is ', i+2)\n",
    "    print(kmeans.labels_)\n",
    "    print('')"
   ]
  },
  {
   "cell_type": "markdown",
   "metadata": {},
   "source": [
    "#### Compute the silhouette score for each clustering."
   ]
  },
  {
   "cell_type": "code",
   "execution_count": 14,
   "metadata": {},
   "outputs": [
    {
     "name": "stdout",
     "output_type": "stream",
     "text": [
      "Silhouette score when k is 2 : [0.2965255965641948]\n",
      "Silhouette score when k is 3 : [0.34625112577381234]\n",
      "Silhouette score when k is 4 : [0.35065362078808077]\n",
      "Silhouette score when k is 5 : [0.3062907761145442]\n",
      "Silhouette score when k is 6 : [0.29743113551294104]\n"
     ]
    }
   ],
   "source": [
    "for i in range(5) :\n",
    "    score = []\n",
    "    kmeans = KMeans(n_clusters = i+2).fit(X_transformed)\n",
    "    sil_score = silhouette_score(X_transformed, kmeans.labels_)\n",
    "    score.append(sil_score)\n",
    "    print(\"Silhouette score when k is\", i+2, \":\", score)"
   ]
  },
  {
   "cell_type": "markdown",
   "metadata": {},
   "source": [
    "#### Is the number of clusters with the highest silhouette score the same that you chose based on the visual inspection of the scatter plot in part 1?"
   ]
  },
  {
   "cell_type": "markdown",
   "metadata": {},
   "source": [
    "Highest silhouette score is when k is 4, which is quite different with my visual inspection. But mine, which is k = 3 is also have similar score."
   ]
  },
  {
   "cell_type": "markdown",
   "metadata": {},
   "source": [
    "###  Part 3: Compare the clusters with the true labels\n",
    "\n",
    " - Choose the K-value that produced the highest silhouette score in part 2. Perform clustering **on the z-score standardized, non-transformed data** using the chosen K-value, then visualize the clusters by using PCA and scatter plot. Color each cluster with a different color.\n",
    " - Visualize the data again, this time coloring the scatter plot based on the true class labels. Compare the two scatter plots: how well do the clusters found by the K-means algorithm match the true classes? Place the two scatter plots so that they can easily be compared (e.g. next to each other in the same figure).\n",
    " - Based on the visual comparison between the clusters and true classes, would you say that the clustering was successful? Compute the adjusted rand index using the true labels and the labels predicted by K-means algorithm for reference. What does adjusted rand index signify and how do you interpret the result?"
   ]
  },
  {
   "cell_type": "markdown",
   "metadata": {},
   "source": [
    "#### Choose the K-value that produced the highest silhouette score in part 2."
   ]
  },
  {
   "cell_type": "markdown",
   "metadata": {},
   "source": [
    "Choose K-Value 4"
   ]
  },
  {
   "cell_type": "markdown",
   "metadata": {},
   "source": [
    "#### Perform clustering on the z-score standardized, non-transformed data using the chosen K-value"
   ]
  },
  {
   "cell_type": "code",
   "execution_count": 15,
   "metadata": {},
   "outputs": [
    {
     "name": "stdout",
     "output_type": "stream",
     "text": [
      "0.35065362078808077\n",
      "\n",
      "0.5548108475767383\n"
     ]
    }
   ],
   "source": [
    "pca_kmeans = KMeans(n_clusters = 4).fit(X_transformed)\n",
    "print(silhouette_score(X_transformed, pca_kmeans.labels_))\n",
    "print('')\n",
    "\n",
    "kmeans = KMeans(n_clusters = 4).fit(X)\n",
    "print(silhouette_score(X, kmeans.labels_))"
   ]
  },
  {
   "cell_type": "markdown",
   "metadata": {},
   "source": [
    "#### Visualize the clusters by using PCA and scatter plot. Color each cluster with a different color."
   ]
  },
  {
   "cell_type": "code",
   "execution_count": 16,
   "metadata": {},
   "outputs": [],
   "source": [
    "df = pd.DataFrame()\n",
    "df['Category'] = pca_kmeans.labels_"
   ]
  },
  {
   "cell_type": "code",
   "execution_count": 17,
   "metadata": {},
   "outputs": [
    {
     "data": {
      "text/plain": [
       "<matplotlib.axes._subplots.AxesSubplot at 0x1869a362278>"
      ]
     },
     "execution_count": 17,
     "metadata": {},
     "output_type": "execute_result"
    },
    {
     "data": {
      "image/png": "[encoded data removed]",
      "text/plain": [
       "<Figure size 432x288 with 1 Axes>"
      ]
     },
     "metadata": {
      "needs_background": "light"
     },
     "output_type": "display_data"
    }
   ],
   "source": [
    "sns.scatterplot(X_transformed[:, 0],X_pca[:, 1], hue = df['Category'])"
   ]
  },
  {
   "cell_type": "markdown",
   "metadata": {},
   "source": [
    "#### Visualize the data again, this time coloring the scatter plot based on the true class labels. "
   ]
  },
  {
   "cell_type": "code",
   "execution_count": 18,
   "metadata": {},
   "outputs": [
    {
     "data": {
      "text/plain": [
       "<matplotlib.axes._subplots.AxesSubplot at 0x186995e5780>"
      ]
     },
     "execution_count": 18,
     "metadata": {},
     "output_type": "execute_result"
    },
    {
     "data": {
      "image/png": "[encoded data removed]",
      "text/plain": [
       "<Figure size 432x288 with 1 Axes>"
      ]
     },
     "metadata": {
      "needs_background": "light"
     },
     "output_type": "display_data"
    }
   ],
   "source": [
    "sns.scatterplot(X_transformed[:, 0],X_pca[:, 1], hue = Y)"
   ]
  },
  {
   "cell_type": "markdown",
   "metadata": {},
   "source": [
    "#### Compare the two scatter plots: how well do the clusters found by the K-means algorithm match the true classes? Place the two scatter plots so that they can easily be compared (e.g. next to each other in the same figure)."
   ]
  },
  {
   "cell_type": "code",
   "execution_count": 19,
   "metadata": {},
   "outputs": [
    {
     "data": {
      "text/plain": [
       "<matplotlib.axes._subplots.AxesSubplot at 0x1869a473e80>"
      ]
     },
     "execution_count": 19,
     "metadata": {},
     "output_type": "execute_result"
    },
    {
     "data": {
      "image/png": "[encoded data removed]",
      "text/plain": [
       "<Figure size 432x288 with 2 Axes>"
      ]
     },
     "metadata": {
      "needs_background": "light"
     },
     "output_type": "display_data"
    }
   ],
   "source": [
    "plt.subplot(1,2,1)\n",
    "sns.scatterplot(X_transformed[:, 0],X_pca[:, 1], hue = df['Category'])\n",
    "\n",
    "plt.subplot(1,2,2)\n",
    "sns.scatterplot(X_transformed[:, 0],X_pca[:, 1], hue = Y)"
   ]
  },
  {
   "cell_type": "markdown",
   "metadata": {},
   "source": [
    "The trend of cluster seems similar, but not 100% perfect."
   ]
  },
  {
   "cell_type": "markdown",
   "metadata": {},
   "source": [
    "#### What does adjusted rand index signify and how do you interpret the result?"
   ]
  },
  {
   "cell_type": "markdown",
   "metadata": {},
   "source": [
    "The number of cluster would be same to use rand index. However given cluster(different ```Ship_type```) is 3, which is different with our best number of cluster 4."
   ]
  },
  {
   "cell_type": "markdown",
   "metadata": {},
   "source": [
    "### Part 4: Optional bonus task \n",
    "\n",
    " - Choose a clustering algorithm other than K-means (preferably one for which scikit-learn has an implementation). Write a short description of the algorithm and explain in your own words how the algorithm works. \n",
    " - Perform clustering on the data using the algorithm that you chose. Compute the silhouette score and adjusted rand index. Visualize the clusters and compare them to true classes as in part 3. How do the results compare to K-means?"
   ]
  },
  {
   "cell_type": "code",
   "execution_count": 20,
   "metadata": {},
   "outputs": [],
   "source": [
    "# write code here, feel free to add more code cells as needed."
   ]
  }
 ],
 "metadata": {
  "kernelspec": {
   "display_name": "Python 3",
   "language": "python",
   "name": "python3"
  },
  "language_info": {
   "codemirror_mode": {
    "name": "ipython",
    "version": 3
   },
   "file_extension": ".py",
   "mimetype": "text/x-python",
   "name": "python",
   "nbconvert_exporter": "python",
   "pygments_lexer": "ipython3",
   "version": "3.7.3"
  }
 },
 "nbformat": 4,
 "nbformat_minor": 2
}
